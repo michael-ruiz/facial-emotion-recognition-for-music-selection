{
 "cells": [
  {
   "cell_type": "markdown",
   "metadata": {
    "id": "IdjwoCGyJ0ev"
   },
   "source": [
    "## Model Training"
   ]
  },
  {
   "cell_type": "code",
   "execution_count": 1,
   "metadata": {
    "id": "pTiY8gyRJ0e0"
   },
   "outputs": [],
   "source": [
    "import os\n",
    "import pandas as pd\n",
    "import numpy as np\n",
    "import warnings\n",
    "import matplotlib.pyplot as plt\n",
    "import tensorflow as tf\n",
    "warnings.filterwarnings('ignore')\n",
    "%matplotlib inline\n",
    "\n",
    "from keras.utils import to_categorical\n",
    "from keras_preprocessing.image import load_img\n",
    "from keras.models import Sequential\n",
    "from keras.layers import Dense, Conv2D, Dropout, Flatten, MaxPooling2D\n",
    "from sklearn.preprocessing import LabelEncoder\n",
    "from tqdm.notebook import tqdm\n",
    "from keras.models import load_model"
   ]
  },
  {
   "cell_type": "code",
   "execution_count": 5,
   "metadata": {
    "id": "BzokbugyJ0e4"
   },
   "outputs": [],
   "source": [
    "def createdataframe(dir):\n",
    "    image_paths = []\n",
    "    labels = []\n",
    "    for label in os.listdir(dir):\n",
    "        # Skip files like .DS_Store\n",
    "        if not os.path.isdir(os.path.join(dir, label)):\n",
    "            continue\n",
    "\n",
    "        for image_name in os.listdir(os.path.join(dir, label)):\n",
    "            image_paths.append(os.path.join(dir, label, image_name))\n",
    "            labels.append(label)\n",
    "        print(label, 'completed')\n",
    "    return image_paths, labels"
   ]
  },
  {
   "cell_type": "code",
   "execution_count": 6,
   "metadata": {
    "colab": {
     "base_uri": "https://localhost:8080/"
    },
    "id": "U60aXD89J0e5",
    "outputId": "8ffdf15e-9e0f-4321-f264-8013a7513350"
   },
   "outputs": [
    {
     "name": "stdout",
     "output_type": "stream",
     "text": [
      "Training data:\n",
      "angry completed\n",
      "neutral completed\n",
      "happy completed\n",
      "fear completed\n",
      "surprise completed\n",
      "disgust completed\n",
      "sad completed\n",
      "------------------------\n",
      "Testing data:\n",
      "angry completed\n",
      "neutral completed\n",
      "happy completed\n",
      "fear completed\n",
      "surprise completed\n",
      "disgust completed\n",
      "sad completed\n"
     ]
    }
   ],
   "source": [
    "TRAIN_DIR = 'dataset/train'\n",
    "TEST_DIR = 'dataset/test'\n",
    "\n",
    "# Load data\n",
    "print('Training data:')\n",
    "train = pd.DataFrame()\n",
    "train['image'], train['label'] = createdataframe(TRAIN_DIR)\n",
    "\n",
    "print('------------------------')\n",
    "\n",
    "print('Testing data:')\n",
    "test = pd.DataFrame()\n",
    "test['image'], test['label'] = createdataframe(TEST_DIR)"
   ]
  },
  {
   "cell_type": "code",
   "execution_count": 7,
   "metadata": {
    "id": "m6nOynZ9J0e6"
   },
   "outputs": [],
   "source": [
    "def extract_features(images):\n",
    "    features = []\n",
    "    for image in tqdm(images):\n",
    "        img = load_img(image, color_mode='grayscale')\n",
    "        img = np.array(img)\n",
    "        features.append(img)\n",
    "    features = np.array(features)\n",
    "    features = features.reshape(len(features), 48, 48, 1)\n",
    "    return features"
   ]
  },
  {
   "cell_type": "code",
   "execution_count": 8,
   "metadata": {
    "colab": {
     "base_uri": "https://localhost:8080/",
     "height": 81,
     "referenced_widgets": [
      "6c0d8763140f42d88b5929495c15add3",
      "27c5afd938e7444ea94d34e635a1af1b",
      "8f9957d2ff534e5b96edbb2a2f2c6f32",
      "e52ab889fd5245fcb0da24addeaaae6a",
      "cba82fa150ef43a6b5caa2a9d5bab478",
      "10584a7636f94da4af79fbbe6c1b4adf",
      "4c11d0a0145441e58aed7e496243eaf3",
      "64f38c270c1e41fdae25c29d59c8db93",
      "af58470d74df4e90a461c4c52ea403f9",
      "20162f641cb946089ab5db08f34a38a4",
      "2a9daf5129b9494da202b96e330b442e",
      "bce2fc1bdfa54f048d6fe9f601611286",
      "2c38a9aa75184393b6b7d0b4db370306",
      "8bfcf2541def4b5fae276c97c2d38321",
      "0c6d8df3edcf407eb36761709c80438b",
      "238a2385905a4f7ab31cba6f34f04842",
      "3676ee317ac74390a5fdb8ca4ab7db0e",
      "2e80e866e7114208bd32c69120f06947",
      "d5bd912cb8934b979fd2348edfdf7ebb",
      "f633cc4911a94f278c2cfb58d1224263",
      "984be3e6d14c4b369286d3788960e697",
      "df1ab49f708247e1974de3773f44a045"
     ]
    },
    "id": "uh2avRAjJ0e6",
    "outputId": "3734a29f-c3c3-4f76-9137-62b0c4ac4faf"
   },
   "outputs": [
    {
     "data": {
      "application/vnd.jupyter.widget-view+json": {
       "model_id": "6c0d8763140f42d88b5929495c15add3",
       "version_major": 2,
       "version_minor": 0
      },
      "text/plain": [
       "  0%|          | 0/28821 [00:00<?, ?it/s]"
      ]
     },
     "metadata": {},
     "output_type": "display_data"
    },
    {
     "data": {
      "application/vnd.jupyter.widget-view+json": {
       "model_id": "bce2fc1bdfa54f048d6fe9f601611286",
       "version_major": 2,
       "version_minor": 0
      },
      "text/plain": [
       "  0%|          | 0/7066 [00:00<?, ?it/s]"
      ]
     },
     "metadata": {},
     "output_type": "display_data"
    }
   ],
   "source": [
    "# Extract features and normalize\n",
    "train_features = extract_features(train['image'])\n",
    "x_train = train_features / 255.0\n",
    "\n",
    "test_features = extract_features(test['image'])\n",
    "x_test = test_features / 255.0"
   ]
  },
  {
   "cell_type": "code",
   "execution_count": 9,
   "metadata": {
    "id": "DrAKUWP2J0e7"
   },
   "outputs": [],
   "source": [
    "# Convert labels to categorical\n",
    "lbl_encoder = LabelEncoder()\n",
    "y_train = lbl_encoder.fit_transform(train['label'])\n",
    "\n",
    "y_train = lbl_encoder.transform(train['label'])\n",
    "y_test = lbl_encoder.transform(test['label'])\n",
    "\n",
    "y_train = to_categorical(y_train, num_classes=7)\n",
    "y_test = to_categorical(y_test, num_classes=7)"
   ]
  },
  {
   "cell_type": "code",
   "execution_count": 10,
   "metadata": {
    "colab": {
     "base_uri": "https://localhost:8080/",
     "height": 628
    },
    "id": "8e1zfML6J0e7",
    "outputId": "8672876c-6312-44c0-e997-c03bde6cf243"
   },
   "outputs": [
    {
     "data": {
      "text/html": [
       "<pre style=\"white-space:pre;overflow-x:auto;line-height:normal;font-family:Menlo,'DejaVu Sans Mono',consolas,'Courier New',monospace\"><span style=\"font-weight: bold\">Model: \"sequential\"</span>\n",
       "</pre>\n"
      ],
      "text/plain": [
       "\u001b[1mModel: \"sequential\"\u001b[0m\n"
      ]
     },
     "metadata": {},
     "output_type": "display_data"
    },
    {
     "data": {
      "text/html": [
       "<pre style=\"white-space:pre;overflow-x:auto;line-height:normal;font-family:Menlo,'DejaVu Sans Mono',consolas,'Courier New',monospace\">┏━━━━━━━━━━━━━━━━━━━━━━━━━━━━━━━━━━━━━━┳━━━━━━━━━━━━━━━━━━━━━━━━━━━━━┳━━━━━━━━━━━━━━━━━┓\n",
       "┃<span style=\"font-weight: bold\"> Layer (type)                         </span>┃<span style=\"font-weight: bold\"> Output Shape                </span>┃<span style=\"font-weight: bold\">         Param # </span>┃\n",
       "┡━━━━━━━━━━━━━━━━━━━━━━━━━━━━━━━━━━━━━━╇━━━━━━━━━━━━━━━━━━━━━━━━━━━━━╇━━━━━━━━━━━━━━━━━┩\n",
       "│ conv2d (<span style=\"color: #0087ff; text-decoration-color: #0087ff\">Conv2D</span>)                      │ (<span style=\"color: #00d7ff; text-decoration-color: #00d7ff\">None</span>, <span style=\"color: #00af00; text-decoration-color: #00af00\">46</span>, <span style=\"color: #00af00; text-decoration-color: #00af00\">46</span>, <span style=\"color: #00af00; text-decoration-color: #00af00\">128</span>)         │           <span style=\"color: #00af00; text-decoration-color: #00af00\">1,280</span> │\n",
       "├──────────────────────────────────────┼─────────────────────────────┼─────────────────┤\n",
       "│ max_pooling2d (<span style=\"color: #0087ff; text-decoration-color: #0087ff\">MaxPooling2D</span>)         │ (<span style=\"color: #00d7ff; text-decoration-color: #00d7ff\">None</span>, <span style=\"color: #00af00; text-decoration-color: #00af00\">23</span>, <span style=\"color: #00af00; text-decoration-color: #00af00\">23</span>, <span style=\"color: #00af00; text-decoration-color: #00af00\">128</span>)         │               <span style=\"color: #00af00; text-decoration-color: #00af00\">0</span> │\n",
       "├──────────────────────────────────────┼─────────────────────────────┼─────────────────┤\n",
       "│ dropout (<span style=\"color: #0087ff; text-decoration-color: #0087ff\">Dropout</span>)                    │ (<span style=\"color: #00d7ff; text-decoration-color: #00d7ff\">None</span>, <span style=\"color: #00af00; text-decoration-color: #00af00\">23</span>, <span style=\"color: #00af00; text-decoration-color: #00af00\">23</span>, <span style=\"color: #00af00; text-decoration-color: #00af00\">128</span>)         │               <span style=\"color: #00af00; text-decoration-color: #00af00\">0</span> │\n",
       "├──────────────────────────────────────┼─────────────────────────────┼─────────────────┤\n",
       "│ conv2d_1 (<span style=\"color: #0087ff; text-decoration-color: #0087ff\">Conv2D</span>)                    │ (<span style=\"color: #00d7ff; text-decoration-color: #00d7ff\">None</span>, <span style=\"color: #00af00; text-decoration-color: #00af00\">21</span>, <span style=\"color: #00af00; text-decoration-color: #00af00\">21</span>, <span style=\"color: #00af00; text-decoration-color: #00af00\">256</span>)         │         <span style=\"color: #00af00; text-decoration-color: #00af00\">295,168</span> │\n",
       "├──────────────────────────────────────┼─────────────────────────────┼─────────────────┤\n",
       "│ max_pooling2d_1 (<span style=\"color: #0087ff; text-decoration-color: #0087ff\">MaxPooling2D</span>)       │ (<span style=\"color: #00d7ff; text-decoration-color: #00d7ff\">None</span>, <span style=\"color: #00af00; text-decoration-color: #00af00\">10</span>, <span style=\"color: #00af00; text-decoration-color: #00af00\">10</span>, <span style=\"color: #00af00; text-decoration-color: #00af00\">256</span>)         │               <span style=\"color: #00af00; text-decoration-color: #00af00\">0</span> │\n",
       "├──────────────────────────────────────┼─────────────────────────────┼─────────────────┤\n",
       "│ dropout_1 (<span style=\"color: #0087ff; text-decoration-color: #0087ff\">Dropout</span>)                  │ (<span style=\"color: #00d7ff; text-decoration-color: #00d7ff\">None</span>, <span style=\"color: #00af00; text-decoration-color: #00af00\">10</span>, <span style=\"color: #00af00; text-decoration-color: #00af00\">10</span>, <span style=\"color: #00af00; text-decoration-color: #00af00\">256</span>)         │               <span style=\"color: #00af00; text-decoration-color: #00af00\">0</span> │\n",
       "├──────────────────────────────────────┼─────────────────────────────┼─────────────────┤\n",
       "│ conv2d_2 (<span style=\"color: #0087ff; text-decoration-color: #0087ff\">Conv2D</span>)                    │ (<span style=\"color: #00d7ff; text-decoration-color: #00d7ff\">None</span>, <span style=\"color: #00af00; text-decoration-color: #00af00\">8</span>, <span style=\"color: #00af00; text-decoration-color: #00af00\">8</span>, <span style=\"color: #00af00; text-decoration-color: #00af00\">512</span>)           │       <span style=\"color: #00af00; text-decoration-color: #00af00\">1,180,160</span> │\n",
       "├──────────────────────────────────────┼─────────────────────────────┼─────────────────┤\n",
       "│ max_pooling2d_2 (<span style=\"color: #0087ff; text-decoration-color: #0087ff\">MaxPooling2D</span>)       │ (<span style=\"color: #00d7ff; text-decoration-color: #00d7ff\">None</span>, <span style=\"color: #00af00; text-decoration-color: #00af00\">4</span>, <span style=\"color: #00af00; text-decoration-color: #00af00\">4</span>, <span style=\"color: #00af00; text-decoration-color: #00af00\">512</span>)           │               <span style=\"color: #00af00; text-decoration-color: #00af00\">0</span> │\n",
       "├──────────────────────────────────────┼─────────────────────────────┼─────────────────┤\n",
       "│ dropout_2 (<span style=\"color: #0087ff; text-decoration-color: #0087ff\">Dropout</span>)                  │ (<span style=\"color: #00d7ff; text-decoration-color: #00d7ff\">None</span>, <span style=\"color: #00af00; text-decoration-color: #00af00\">4</span>, <span style=\"color: #00af00; text-decoration-color: #00af00\">4</span>, <span style=\"color: #00af00; text-decoration-color: #00af00\">512</span>)           │               <span style=\"color: #00af00; text-decoration-color: #00af00\">0</span> │\n",
       "├──────────────────────────────────────┼─────────────────────────────┼─────────────────┤\n",
       "│ flatten (<span style=\"color: #0087ff; text-decoration-color: #0087ff\">Flatten</span>)                    │ (<span style=\"color: #00d7ff; text-decoration-color: #00d7ff\">None</span>, <span style=\"color: #00af00; text-decoration-color: #00af00\">8192</span>)                │               <span style=\"color: #00af00; text-decoration-color: #00af00\">0</span> │\n",
       "├──────────────────────────────────────┼─────────────────────────────┼─────────────────┤\n",
       "│ dense (<span style=\"color: #0087ff; text-decoration-color: #0087ff\">Dense</span>)                        │ (<span style=\"color: #00d7ff; text-decoration-color: #00d7ff\">None</span>, <span style=\"color: #00af00; text-decoration-color: #00af00\">512</span>)                 │       <span style=\"color: #00af00; text-decoration-color: #00af00\">4,194,816</span> │\n",
       "├──────────────────────────────────────┼─────────────────────────────┼─────────────────┤\n",
       "│ dropout_3 (<span style=\"color: #0087ff; text-decoration-color: #0087ff\">Dropout</span>)                  │ (<span style=\"color: #00d7ff; text-decoration-color: #00d7ff\">None</span>, <span style=\"color: #00af00; text-decoration-color: #00af00\">512</span>)                 │               <span style=\"color: #00af00; text-decoration-color: #00af00\">0</span> │\n",
       "├──────────────────────────────────────┼─────────────────────────────┼─────────────────┤\n",
       "│ dense_1 (<span style=\"color: #0087ff; text-decoration-color: #0087ff\">Dense</span>)                      │ (<span style=\"color: #00d7ff; text-decoration-color: #00d7ff\">None</span>, <span style=\"color: #00af00; text-decoration-color: #00af00\">256</span>)                 │         <span style=\"color: #00af00; text-decoration-color: #00af00\">131,328</span> │\n",
       "├──────────────────────────────────────┼─────────────────────────────┼─────────────────┤\n",
       "│ dropout_4 (<span style=\"color: #0087ff; text-decoration-color: #0087ff\">Dropout</span>)                  │ (<span style=\"color: #00d7ff; text-decoration-color: #00d7ff\">None</span>, <span style=\"color: #00af00; text-decoration-color: #00af00\">256</span>)                 │               <span style=\"color: #00af00; text-decoration-color: #00af00\">0</span> │\n",
       "├──────────────────────────────────────┼─────────────────────────────┼─────────────────┤\n",
       "│ dense_2 (<span style=\"color: #0087ff; text-decoration-color: #0087ff\">Dense</span>)                      │ (<span style=\"color: #00d7ff; text-decoration-color: #00d7ff\">None</span>, <span style=\"color: #00af00; text-decoration-color: #00af00\">7</span>)                   │           <span style=\"color: #00af00; text-decoration-color: #00af00\">1,799</span> │\n",
       "└──────────────────────────────────────┴─────────────────────────────┴─────────────────┘\n",
       "</pre>\n"
      ],
      "text/plain": [
       "┏━━━━━━━━━━━━━━━━━━━━━━━━━━━━━━━━━━━━━━┳━━━━━━━━━━━━━━━━━━━━━━━━━━━━━┳━━━━━━━━━━━━━━━━━┓\n",
       "┃\u001b[1m \u001b[0m\u001b[1mLayer (type)                        \u001b[0m\u001b[1m \u001b[0m┃\u001b[1m \u001b[0m\u001b[1mOutput Shape               \u001b[0m\u001b[1m \u001b[0m┃\u001b[1m \u001b[0m\u001b[1m        Param #\u001b[0m\u001b[1m \u001b[0m┃\n",
       "┡━━━━━━━━━━━━━━━━━━━━━━━━━━━━━━━━━━━━━━╇━━━━━━━━━━━━━━━━━━━━━━━━━━━━━╇━━━━━━━━━━━━━━━━━┩\n",
       "│ conv2d (\u001b[38;5;33mConv2D\u001b[0m)                      │ (\u001b[38;5;45mNone\u001b[0m, \u001b[38;5;34m46\u001b[0m, \u001b[38;5;34m46\u001b[0m, \u001b[38;5;34m128\u001b[0m)         │           \u001b[38;5;34m1,280\u001b[0m │\n",
       "├──────────────────────────────────────┼─────────────────────────────┼─────────────────┤\n",
       "│ max_pooling2d (\u001b[38;5;33mMaxPooling2D\u001b[0m)         │ (\u001b[38;5;45mNone\u001b[0m, \u001b[38;5;34m23\u001b[0m, \u001b[38;5;34m23\u001b[0m, \u001b[38;5;34m128\u001b[0m)         │               \u001b[38;5;34m0\u001b[0m │\n",
       "├──────────────────────────────────────┼─────────────────────────────┼─────────────────┤\n",
       "│ dropout (\u001b[38;5;33mDropout\u001b[0m)                    │ (\u001b[38;5;45mNone\u001b[0m, \u001b[38;5;34m23\u001b[0m, \u001b[38;5;34m23\u001b[0m, \u001b[38;5;34m128\u001b[0m)         │               \u001b[38;5;34m0\u001b[0m │\n",
       "├──────────────────────────────────────┼─────────────────────────────┼─────────────────┤\n",
       "│ conv2d_1 (\u001b[38;5;33mConv2D\u001b[0m)                    │ (\u001b[38;5;45mNone\u001b[0m, \u001b[38;5;34m21\u001b[0m, \u001b[38;5;34m21\u001b[0m, \u001b[38;5;34m256\u001b[0m)         │         \u001b[38;5;34m295,168\u001b[0m │\n",
       "├──────────────────────────────────────┼─────────────────────────────┼─────────────────┤\n",
       "│ max_pooling2d_1 (\u001b[38;5;33mMaxPooling2D\u001b[0m)       │ (\u001b[38;5;45mNone\u001b[0m, \u001b[38;5;34m10\u001b[0m, \u001b[38;5;34m10\u001b[0m, \u001b[38;5;34m256\u001b[0m)         │               \u001b[38;5;34m0\u001b[0m │\n",
       "├──────────────────────────────────────┼─────────────────────────────┼─────────────────┤\n",
       "│ dropout_1 (\u001b[38;5;33mDropout\u001b[0m)                  │ (\u001b[38;5;45mNone\u001b[0m, \u001b[38;5;34m10\u001b[0m, \u001b[38;5;34m10\u001b[0m, \u001b[38;5;34m256\u001b[0m)         │               \u001b[38;5;34m0\u001b[0m │\n",
       "├──────────────────────────────────────┼─────────────────────────────┼─────────────────┤\n",
       "│ conv2d_2 (\u001b[38;5;33mConv2D\u001b[0m)                    │ (\u001b[38;5;45mNone\u001b[0m, \u001b[38;5;34m8\u001b[0m, \u001b[38;5;34m8\u001b[0m, \u001b[38;5;34m512\u001b[0m)           │       \u001b[38;5;34m1,180,160\u001b[0m │\n",
       "├──────────────────────────────────────┼─────────────────────────────┼─────────────────┤\n",
       "│ max_pooling2d_2 (\u001b[38;5;33mMaxPooling2D\u001b[0m)       │ (\u001b[38;5;45mNone\u001b[0m, \u001b[38;5;34m4\u001b[0m, \u001b[38;5;34m4\u001b[0m, \u001b[38;5;34m512\u001b[0m)           │               \u001b[38;5;34m0\u001b[0m │\n",
       "├──────────────────────────────────────┼─────────────────────────────┼─────────────────┤\n",
       "│ dropout_2 (\u001b[38;5;33mDropout\u001b[0m)                  │ (\u001b[38;5;45mNone\u001b[0m, \u001b[38;5;34m4\u001b[0m, \u001b[38;5;34m4\u001b[0m, \u001b[38;5;34m512\u001b[0m)           │               \u001b[38;5;34m0\u001b[0m │\n",
       "├──────────────────────────────────────┼─────────────────────────────┼─────────────────┤\n",
       "│ flatten (\u001b[38;5;33mFlatten\u001b[0m)                    │ (\u001b[38;5;45mNone\u001b[0m, \u001b[38;5;34m8192\u001b[0m)                │               \u001b[38;5;34m0\u001b[0m │\n",
       "├──────────────────────────────────────┼─────────────────────────────┼─────────────────┤\n",
       "│ dense (\u001b[38;5;33mDense\u001b[0m)                        │ (\u001b[38;5;45mNone\u001b[0m, \u001b[38;5;34m512\u001b[0m)                 │       \u001b[38;5;34m4,194,816\u001b[0m │\n",
       "├──────────────────────────────────────┼─────────────────────────────┼─────────────────┤\n",
       "│ dropout_3 (\u001b[38;5;33mDropout\u001b[0m)                  │ (\u001b[38;5;45mNone\u001b[0m, \u001b[38;5;34m512\u001b[0m)                 │               \u001b[38;5;34m0\u001b[0m │\n",
       "├──────────────────────────────────────┼─────────────────────────────┼─────────────────┤\n",
       "│ dense_1 (\u001b[38;5;33mDense\u001b[0m)                      │ (\u001b[38;5;45mNone\u001b[0m, \u001b[38;5;34m256\u001b[0m)                 │         \u001b[38;5;34m131,328\u001b[0m │\n",
       "├──────────────────────────────────────┼─────────────────────────────┼─────────────────┤\n",
       "│ dropout_4 (\u001b[38;5;33mDropout\u001b[0m)                  │ (\u001b[38;5;45mNone\u001b[0m, \u001b[38;5;34m256\u001b[0m)                 │               \u001b[38;5;34m0\u001b[0m │\n",
       "├──────────────────────────────────────┼─────────────────────────────┼─────────────────┤\n",
       "│ dense_2 (\u001b[38;5;33mDense\u001b[0m)                      │ (\u001b[38;5;45mNone\u001b[0m, \u001b[38;5;34m7\u001b[0m)                   │           \u001b[38;5;34m1,799\u001b[0m │\n",
       "└──────────────────────────────────────┴─────────────────────────────┴─────────────────┘\n"
      ]
     },
     "metadata": {},
     "output_type": "display_data"
    },
    {
     "data": {
      "text/html": [
       "<pre style=\"white-space:pre;overflow-x:auto;line-height:normal;font-family:Menlo,'DejaVu Sans Mono',consolas,'Courier New',monospace\"><span style=\"font-weight: bold\"> Total params: </span><span style=\"color: #00af00; text-decoration-color: #00af00\">5,804,551</span> (22.14 MB)\n",
       "</pre>\n"
      ],
      "text/plain": [
       "\u001b[1m Total params: \u001b[0m\u001b[38;5;34m5,804,551\u001b[0m (22.14 MB)\n"
      ]
     },
     "metadata": {},
     "output_type": "display_data"
    },
    {
     "data": {
      "text/html": [
       "<pre style=\"white-space:pre;overflow-x:auto;line-height:normal;font-family:Menlo,'DejaVu Sans Mono',consolas,'Courier New',monospace\"><span style=\"font-weight: bold\"> Trainable params: </span><span style=\"color: #00af00; text-decoration-color: #00af00\">5,804,551</span> (22.14 MB)\n",
       "</pre>\n"
      ],
      "text/plain": [
       "\u001b[1m Trainable params: \u001b[0m\u001b[38;5;34m5,804,551\u001b[0m (22.14 MB)\n"
      ]
     },
     "metadata": {},
     "output_type": "display_data"
    },
    {
     "data": {
      "text/html": [
       "<pre style=\"white-space:pre;overflow-x:auto;line-height:normal;font-family:Menlo,'DejaVu Sans Mono',consolas,'Courier New',monospace\"><span style=\"font-weight: bold\"> Non-trainable params: </span><span style=\"color: #00af00; text-decoration-color: #00af00\">0</span> (0.00 B)\n",
       "</pre>\n"
      ],
      "text/plain": [
       "\u001b[1m Non-trainable params: \u001b[0m\u001b[38;5;34m0\u001b[0m (0.00 B)\n"
      ]
     },
     "metadata": {},
     "output_type": "display_data"
    }
   ],
   "source": [
    "# Build model\n",
    "model = Sequential()\n",
    "\n",
    "# Convolutional layers\n",
    "model.add(Conv2D(128, kernel_size=(3,3), activation='relu', input_shape=(48,48,1)))\n",
    "model.add(MaxPooling2D(pool_size=(2,2)))\n",
    "model.add(Dropout(0.5))\n",
    "\n",
    "model.add(Conv2D(256, kernel_size=(3,3), activation='relu'))\n",
    "model.add(MaxPooling2D(pool_size=(2,2)))\n",
    "model.add(Dropout(0.5))\n",
    "\n",
    "model.add(Conv2D(512, kernel_size=(3,3), activation='relu'))\n",
    "model.add(MaxPooling2D(pool_size=(2,2)))\n",
    "model.add(Dropout(0.5))\n",
    "\n",
    "model.add(Flatten())\n",
    "\n",
    "# Fully connected layers\n",
    "model.add(Dense(512, activation='relu'))\n",
    "model.add(Dropout(0.5))\n",
    "model.add(Dense(256, activation='relu'))\n",
    "model.add(Dropout(0.3))\n",
    "\n",
    "# Output layer\n",
    "model.add(Dense(7, activation='softmax'))\n",
    "\n",
    "model.summary()"
   ]
  },
  {
   "cell_type": "code",
   "execution_count": 13,
   "metadata": {
    "id": "EcPTJxX9K9iM"
   },
   "outputs": [],
   "source": [
    "# Define F1-score class\n",
    "class F1Score(tf.keras.metrics.Metric):\n",
    "    def __init__(self, name='f1_score', **kwargs):\n",
    "        super(F1Score, self).__init__(name=name, **kwargs)\n",
    "        self.precision = tf.keras.metrics.Precision()\n",
    "        self.recall = tf.keras.metrics.Recall()\n",
    "\n",
    "    def update_state(self, y_true, y_pred, sample_weight=None):\n",
    "        self.precision.update_state(y_true, y_pred, sample_weight)\n",
    "        self.recall.update_state(y_true, y_pred, sample_weight)\n",
    "\n",
    "    def result(self):\n",
    "        precision = self.precision.result()\n",
    "        recall = self.recall.result()\n",
    "        f1 = 2 * (precision * recall) / (precision + recall + tf.keras.backend.epsilon())\n",
    "        return f1\n",
    "\n",
    "    def reset_states(self):\n",
    "        self.precision.reset_states()\n",
    "        self.recall.reset_states()"
   ]
  },
  {
   "cell_type": "code",
   "execution_count": 15,
   "metadata": {
    "id": "VOnrQIPrOrC7"
   },
   "outputs": [],
   "source": [
    "# Compile model and set metrics\n",
    "model.compile(optimizer='adam', loss ='categorical_crossentropy', metrics=['accuracy', tf.keras.metrics.Precision(name='precision'),\n",
    "        tf.keras.metrics.Recall(name='recall'),\n",
    "        F1Score()])"
   ]
  },
  {
   "cell_type": "code",
   "execution_count": 16,
   "metadata": {
    "colab": {
     "base_uri": "https://localhost:8080/"
    },
    "id": "0GleBRgGJ0e8",
    "outputId": "6db2af82-a42b-441c-9b66-2809dc38bf7e"
   },
   "outputs": [
    {
     "name": "stdout",
     "output_type": "stream",
     "text": [
      "Epoch 1/100\n",
      "\u001b[1m226/226\u001b[0m \u001b[32m━━━━━━━━━━━━━━━━━━━━\u001b[0m\u001b[37m\u001b[0m \u001b[1m32s\u001b[0m 91ms/step - accuracy: 0.2369 - f1_score: 0.0043 - loss: 1.8428 - precision: 0.2904 - recall: 0.0022 - val_accuracy: 0.2641 - val_f1_score: 0.0000e+00 - val_loss: 1.7904 - val_precision: 0.0000e+00 - val_recall: 0.0000e+00\n",
      "Epoch 2/100\n",
      "\u001b[1m226/226\u001b[0m \u001b[32m━━━━━━━━━━━━━━━━━━━━\u001b[0m\u001b[37m\u001b[0m \u001b[1m22s\u001b[0m 47ms/step - accuracy: 0.2691 - f1_score: 0.0088 - loss: 1.7720 - precision: 0.4608 - recall: 0.0045 - val_accuracy: 0.3689 - val_f1_score: 0.0791 - val_loss: 1.6287 - val_precision: 0.7449 - val_recall: 0.0417\n",
      "Epoch 3/100\n",
      "\u001b[1m226/226\u001b[0m \u001b[32m━━━━━━━━━━━━━━━━━━━━\u001b[0m\u001b[37m\u001b[0m \u001b[1m20s\u001b[0m 47ms/step - accuracy: 0.3623 - f1_score: 0.1651 - loss: 1.6238 - precision: 0.6552 - recall: 0.0947 - val_accuracy: 0.4339 - val_f1_score: 0.2674 - val_loss: 1.4666 - val_precision: 0.7939 - val_recall: 0.1608\n",
      "Epoch 4/100\n",
      "\u001b[1m226/226\u001b[0m \u001b[32m━━━━━━━━━━━━━━━━━━━━\u001b[0m\u001b[37m\u001b[0m \u001b[1m11s\u001b[0m 48ms/step - accuracy: 0.4112 - f1_score: 0.2591 - loss: 1.5091 - precision: 0.7195 - recall: 0.1581 - val_accuracy: 0.4786 - val_f1_score: 0.2616 - val_loss: 1.4073 - val_precision: 0.8428 - val_recall: 0.1548\n",
      "Epoch 5/100\n",
      "\u001b[1m226/226\u001b[0m \u001b[32m━━━━━━━━━━━━━━━━━━━━\u001b[0m\u001b[37m\u001b[0m \u001b[1m11s\u001b[0m 48ms/step - accuracy: 0.4405 - f1_score: 0.2947 - loss: 1.4510 - precision: 0.7196 - recall: 0.1854 - val_accuracy: 0.4969 - val_f1_score: 0.3399 - val_loss: 1.3308 - val_precision: 0.8173 - val_recall: 0.2145\n",
      "Epoch 6/100\n",
      "\u001b[1m226/226\u001b[0m \u001b[32m━━━━━━━━━━━━━━━━━━━━\u001b[0m\u001b[37m\u001b[0m \u001b[1m11s\u001b[0m 49ms/step - accuracy: 0.4561 - f1_score: 0.3288 - loss: 1.4020 - precision: 0.7340 - recall: 0.2120 - val_accuracy: 0.5153 - val_f1_score: 0.3807 - val_loss: 1.2831 - val_precision: 0.8144 - val_recall: 0.2484\n",
      "Epoch 7/100\n",
      "\u001b[1m226/226\u001b[0m \u001b[32m━━━━━━━━━━━━━━━━━━━━\u001b[0m\u001b[37m\u001b[0m \u001b[1m20s\u001b[0m 48ms/step - accuracy: 0.4764 - f1_score: 0.3532 - loss: 1.3576 - precision: 0.7270 - recall: 0.2333 - val_accuracy: 0.5232 - val_f1_score: 0.3981 - val_loss: 1.2607 - val_precision: 0.8165 - val_recall: 0.2632\n",
      "Epoch 8/100\n",
      "\u001b[1m226/226\u001b[0m \u001b[32m━━━━━━━━━━━━━━━━━━━━\u001b[0m\u001b[37m\u001b[0m \u001b[1m21s\u001b[0m 48ms/step - accuracy: 0.4910 - f1_score: 0.3749 - loss: 1.3373 - precision: 0.7376 - recall: 0.2513 - val_accuracy: 0.5294 - val_f1_score: 0.4011 - val_loss: 1.2381 - val_precision: 0.8254 - val_recall: 0.2649\n",
      "Epoch 9/100\n",
      "\u001b[1m226/226\u001b[0m \u001b[32m━━━━━━━━━━━━━━━━━━━━\u001b[0m\u001b[37m\u001b[0m \u001b[1m11s\u001b[0m 49ms/step - accuracy: 0.4872 - f1_score: 0.3806 - loss: 1.3241 - precision: 0.7356 - recall: 0.2569 - val_accuracy: 0.5361 - val_f1_score: 0.4009 - val_loss: 1.2336 - val_precision: 0.8337 - val_recall: 0.2639\n",
      "Epoch 10/100\n",
      "\u001b[1m226/226\u001b[0m \u001b[32m━━━━━━━━━━━━━━━━━━━━\u001b[0m\u001b[37m\u001b[0m \u001b[1m20s\u001b[0m 48ms/step - accuracy: 0.5148 - f1_score: 0.4053 - loss: 1.2851 - precision: 0.7500 - recall: 0.2778 - val_accuracy: 0.5549 - val_f1_score: 0.4540 - val_loss: 1.1805 - val_precision: 0.7976 - val_recall: 0.3173\n",
      "Epoch 11/100\n",
      "\u001b[1m226/226\u001b[0m \u001b[32m━━━━━━━━━━━━━━━━━━━━\u001b[0m\u001b[37m\u001b[0m \u001b[1m11s\u001b[0m 51ms/step - accuracy: 0.5179 - f1_score: 0.4168 - loss: 1.2677 - precision: 0.7344 - recall: 0.2910 - val_accuracy: 0.5474 - val_f1_score: 0.4632 - val_loss: 1.1848 - val_precision: 0.7847 - val_recall: 0.3286\n",
      "Epoch 12/100\n",
      "\u001b[1m226/226\u001b[0m \u001b[32m━━━━━━━━━━━━━━━━━━━━\u001b[0m\u001b[37m\u001b[0m \u001b[1m11s\u001b[0m 48ms/step - accuracy: 0.5276 - f1_score: 0.4387 - loss: 1.2459 - precision: 0.7477 - recall: 0.3105 - val_accuracy: 0.5645 - val_f1_score: 0.4457 - val_loss: 1.1710 - val_precision: 0.8243 - val_recall: 0.3054\n",
      "Epoch 13/100\n",
      "\u001b[1m226/226\u001b[0m \u001b[32m━━━━━━━━━━━━━━━━━━━━\u001b[0m\u001b[37m\u001b[0m \u001b[1m20s\u001b[0m 47ms/step - accuracy: 0.5279 - f1_score: 0.4287 - loss: 1.2434 - precision: 0.7416 - recall: 0.3017 - val_accuracy: 0.5606 - val_f1_score: 0.4669 - val_loss: 1.1620 - val_precision: 0.7893 - val_recall: 0.3314\n",
      "Epoch 14/100\n",
      "\u001b[1m226/226\u001b[0m \u001b[32m━━━━━━━━━━━━━━━━━━━━\u001b[0m\u001b[37m\u001b[0m \u001b[1m11s\u001b[0m 47ms/step - accuracy: 0.5319 - f1_score: 0.4434 - loss: 1.2310 - precision: 0.7417 - recall: 0.3163 - val_accuracy: 0.5662 - val_f1_score: 0.4813 - val_loss: 1.1451 - val_precision: 0.7766 - val_recall: 0.3487\n",
      "Epoch 15/100\n",
      "\u001b[1m226/226\u001b[0m \u001b[32m━━━━━━━━━━━━━━━━━━━━\u001b[0m\u001b[37m\u001b[0m \u001b[1m20s\u001b[0m 47ms/step - accuracy: 0.5387 - f1_score: 0.4595 - loss: 1.1993 - precision: 0.7404 - recall: 0.3332 - val_accuracy: 0.5669 - val_f1_score: 0.4773 - val_loss: 1.1342 - val_precision: 0.7915 - val_recall: 0.3416\n",
      "Epoch 16/100\n",
      "\u001b[1m226/226\u001b[0m \u001b[32m━━━━━━━━━━━━━━━━━━━━\u001b[0m\u001b[37m\u001b[0m \u001b[1m20s\u001b[0m 47ms/step - accuracy: 0.5462 - f1_score: 0.4647 - loss: 1.1966 - precision: 0.7558 - recall: 0.3355 - val_accuracy: 0.5722 - val_f1_score: 0.4801 - val_loss: 1.1313 - val_precision: 0.7890 - val_recall: 0.3450\n",
      "Epoch 17/100\n",
      "\u001b[1m226/226\u001b[0m \u001b[32m━━━━━━━━━━━━━━━━━━━━\u001b[0m\u001b[37m\u001b[0m \u001b[1m20s\u001b[0m 47ms/step - accuracy: 0.5493 - f1_score: 0.4748 - loss: 1.1769 - precision: 0.7431 - recall: 0.3489 - val_accuracy: 0.5750 - val_f1_score: 0.4861 - val_loss: 1.1258 - val_precision: 0.7997 - val_recall: 0.3491\n",
      "Epoch 18/100\n",
      "\u001b[1m226/226\u001b[0m \u001b[32m━━━━━━━━━━━━━━━━━━━━\u001b[0m\u001b[37m\u001b[0m \u001b[1m11s\u001b[0m 47ms/step - accuracy: 0.5584 - f1_score: 0.4803 - loss: 1.1703 - precision: 0.7559 - recall: 0.3521 - val_accuracy: 0.5852 - val_f1_score: 0.4906 - val_loss: 1.1138 - val_precision: 0.8096 - val_recall: 0.3520\n",
      "Epoch 19/100\n",
      "\u001b[1m226/226\u001b[0m \u001b[32m━━━━━━━━━━━━━━━━━━━━\u001b[0m\u001b[37m\u001b[0m \u001b[1m20s\u001b[0m 46ms/step - accuracy: 0.5631 - f1_score: 0.4862 - loss: 1.1603 - precision: 0.7509 - recall: 0.3596 - val_accuracy: 0.5843 - val_f1_score: 0.4891 - val_loss: 1.1074 - val_precision: 0.8163 - val_recall: 0.3491\n",
      "Epoch 20/100\n",
      "\u001b[1m226/226\u001b[0m \u001b[32m━━━━━━━━━━━━━━━━━━━━\u001b[0m\u001b[37m\u001b[0m \u001b[1m21s\u001b[0m 47ms/step - accuracy: 0.5668 - f1_score: 0.4933 - loss: 1.1438 - precision: 0.7494 - recall: 0.3678 - val_accuracy: 0.5790 - val_f1_score: 0.5012 - val_loss: 1.1139 - val_precision: 0.7819 - val_recall: 0.3688\n",
      "Epoch 21/100\n",
      "\u001b[1m226/226\u001b[0m \u001b[32m━━━━━━━━━━━━━━━━━━━━\u001b[0m\u001b[37m\u001b[0m \u001b[1m11s\u001b[0m 46ms/step - accuracy: 0.5697 - f1_score: 0.5053 - loss: 1.1335 - precision: 0.7574 - recall: 0.3791 - val_accuracy: 0.5911 - val_f1_score: 0.4892 - val_loss: 1.1058 - val_precision: 0.8237 - val_recall: 0.3479\n",
      "Epoch 22/100\n",
      "\u001b[1m226/226\u001b[0m \u001b[32m━━━━━━━━━━━━━━━━━━━━\u001b[0m\u001b[37m\u001b[0m \u001b[1m11s\u001b[0m 47ms/step - accuracy: 0.5667 - f1_score: 0.5001 - loss: 1.1377 - precision: 0.7494 - recall: 0.3752 - val_accuracy: 0.5948 - val_f1_score: 0.5019 - val_loss: 1.0893 - val_precision: 0.8127 - val_recall: 0.3630\n",
      "Epoch 23/100\n",
      "\u001b[1m226/226\u001b[0m \u001b[32m━━━━━━━━━━━━━━━━━━━━\u001b[0m\u001b[37m\u001b[0m \u001b[1m21s\u001b[0m 47ms/step - accuracy: 0.5748 - f1_score: 0.5071 - loss: 1.1258 - precision: 0.7517 - recall: 0.3827 - val_accuracy: 0.5935 - val_f1_score: 0.5063 - val_loss: 1.0845 - val_precision: 0.8064 - val_recall: 0.3689\n",
      "Epoch 24/100\n",
      "\u001b[1m226/226\u001b[0m \u001b[32m━━━━━━━━━━━━━━━━━━━━\u001b[0m\u001b[37m\u001b[0m \u001b[1m10s\u001b[0m 46ms/step - accuracy: 0.5781 - f1_score: 0.5141 - loss: 1.1081 - precision: 0.7545 - recall: 0.3899 - val_accuracy: 0.5957 - val_f1_score: 0.5168 - val_loss: 1.0814 - val_precision: 0.7992 - val_recall: 0.3818\n",
      "Epoch 25/100\n",
      "\u001b[1m226/226\u001b[0m \u001b[32m━━━━━━━━━━━━━━━━━━━━\u001b[0m\u001b[37m\u001b[0m \u001b[1m21s\u001b[0m 47ms/step - accuracy: 0.5890 - f1_score: 0.5239 - loss: 1.0973 - precision: 0.7561 - recall: 0.4009 - val_accuracy: 0.5964 - val_f1_score: 0.5056 - val_loss: 1.0800 - val_precision: 0.8107 - val_recall: 0.3674\n",
      "Epoch 26/100\n",
      "\u001b[1m226/226\u001b[0m \u001b[32m━━━━━━━━━━━━━━━━━━━━\u001b[0m\u001b[37m\u001b[0m \u001b[1m11s\u001b[0m 47ms/step - accuracy: 0.5958 - f1_score: 0.5351 - loss: 1.0875 - precision: 0.7626 - recall: 0.4121 - val_accuracy: 0.5947 - val_f1_score: 0.5180 - val_loss: 1.0863 - val_precision: 0.7929 - val_recall: 0.3847\n",
      "Epoch 27/100\n",
      "\u001b[1m226/226\u001b[0m \u001b[32m━━━━━━━━━━━━━━━━━━━━\u001b[0m\u001b[37m\u001b[0m \u001b[1m11s\u001b[0m 47ms/step - accuracy: 0.5901 - f1_score: 0.5308 - loss: 1.0843 - precision: 0.7511 - recall: 0.4105 - val_accuracy: 0.5952 - val_f1_score: 0.5332 - val_loss: 1.0840 - val_precision: 0.7868 - val_recall: 0.4032\n",
      "Epoch 28/100\n",
      "\u001b[1m226/226\u001b[0m \u001b[32m━━━━━━━━━━━━━━━━━━━━\u001b[0m\u001b[37m\u001b[0m \u001b[1m11s\u001b[0m 47ms/step - accuracy: 0.5874 - f1_score: 0.5335 - loss: 1.0876 - precision: 0.7488 - recall: 0.4144 - val_accuracy: 0.6023 - val_f1_score: 0.5277 - val_loss: 1.0638 - val_precision: 0.8003 - val_recall: 0.3936\n",
      "Epoch 29/100\n",
      "\u001b[1m226/226\u001b[0m \u001b[32m━━━━━━━━━━━━━━━━━━━━\u001b[0m\u001b[37m\u001b[0m \u001b[1m21s\u001b[0m 48ms/step - accuracy: 0.5927 - f1_score: 0.5428 - loss: 1.0761 - precision: 0.7561 - recall: 0.4234 - val_accuracy: 0.6040 - val_f1_score: 0.5250 - val_loss: 1.0665 - val_precision: 0.8123 - val_recall: 0.3878\n",
      "Epoch 30/100\n",
      "\u001b[1m226/226\u001b[0m \u001b[32m━━━━━━━━━━━━━━━━━━━━\u001b[0m\u001b[37m\u001b[0m \u001b[1m11s\u001b[0m 48ms/step - accuracy: 0.5900 - f1_score: 0.5402 - loss: 1.0617 - precision: 0.7524 - recall: 0.4214 - val_accuracy: 0.5969 - val_f1_score: 0.5393 - val_loss: 1.0707 - val_precision: 0.7801 - val_recall: 0.4121\n",
      "Epoch 31/100\n",
      "\u001b[1m226/226\u001b[0m \u001b[32m━━━━━━━━━━━━━━━━━━━━\u001b[0m\u001b[37m\u001b[0m \u001b[1m20s\u001b[0m 47ms/step - accuracy: 0.6069 - f1_score: 0.5587 - loss: 1.0470 - precision: 0.7594 - recall: 0.4420 - val_accuracy: 0.5985 - val_f1_score: 0.5344 - val_loss: 1.0666 - val_precision: 0.7981 - val_recall: 0.4016\n",
      "Epoch 32/100\n",
      "\u001b[1m226/226\u001b[0m \u001b[32m━━━━━━━━━━━━━━━━━━━━\u001b[0m\u001b[37m\u001b[0m \u001b[1m20s\u001b[0m 46ms/step - accuracy: 0.5973 - f1_score: 0.5476 - loss: 1.0579 - precision: 0.7529 - recall: 0.4303 - val_accuracy: 0.6068 - val_f1_score: 0.5356 - val_loss: 1.0587 - val_precision: 0.7922 - val_recall: 0.4046\n",
      "Epoch 33/100\n",
      "\u001b[1m226/226\u001b[0m \u001b[32m━━━━━━━━━━━━━━━━━━━━\u001b[0m\u001b[37m\u001b[0m \u001b[1m21s\u001b[0m 47ms/step - accuracy: 0.6086 - f1_score: 0.5572 - loss: 1.0410 - precision: 0.7629 - recall: 0.4389 - val_accuracy: 0.6078 - val_f1_score: 0.5349 - val_loss: 1.0588 - val_precision: 0.8012 - val_recall: 0.4015\n",
      "Epoch 34/100\n",
      "\u001b[1m226/226\u001b[0m \u001b[32m━━━━━━━━━━━━━━━━━━━━\u001b[0m\u001b[37m\u001b[0m \u001b[1m11s\u001b[0m 47ms/step - accuracy: 0.6169 - f1_score: 0.5678 - loss: 1.0213 - precision: 0.7640 - recall: 0.4518 - val_accuracy: 0.6122 - val_f1_score: 0.5401 - val_loss: 1.0536 - val_precision: 0.7929 - val_recall: 0.4096\n",
      "Epoch 35/100\n",
      "\u001b[1m226/226\u001b[0m \u001b[32m━━━━━━━━━━━━━━━━━━━━\u001b[0m\u001b[37m\u001b[0m \u001b[1m20s\u001b[0m 47ms/step - accuracy: 0.6176 - f1_score: 0.5748 - loss: 1.0155 - precision: 0.7667 - recall: 0.4598 - val_accuracy: 0.6102 - val_f1_score: 0.5474 - val_loss: 1.0510 - val_precision: 0.8008 - val_recall: 0.4158\n",
      "Epoch 36/100\n",
      "\u001b[1m226/226\u001b[0m \u001b[32m━━━━━━━━━━━━━━━━━━━━\u001b[0m\u001b[37m\u001b[0m \u001b[1m11s\u001b[0m 47ms/step - accuracy: 0.6152 - f1_score: 0.5685 - loss: 1.0212 - precision: 0.7614 - recall: 0.4537 - val_accuracy: 0.6074 - val_f1_score: 0.5394 - val_loss: 1.0502 - val_precision: 0.8067 - val_recall: 0.4052\n",
      "Epoch 37/100\n",
      "\u001b[1m226/226\u001b[0m \u001b[32m━━━━━━━━━━━━━━━━━━━━\u001b[0m\u001b[37m\u001b[0m \u001b[1m21s\u001b[0m 47ms/step - accuracy: 0.6216 - f1_score: 0.5772 - loss: 1.0067 - precision: 0.7670 - recall: 0.4628 - val_accuracy: 0.6063 - val_f1_score: 0.5465 - val_loss: 1.0570 - val_precision: 0.7884 - val_recall: 0.4182\n",
      "Epoch 38/100\n",
      "\u001b[1m226/226\u001b[0m \u001b[32m━━━━━━━━━━━━━━━━━━━━\u001b[0m\u001b[37m\u001b[0m \u001b[1m20s\u001b[0m 46ms/step - accuracy: 0.6190 - f1_score: 0.5780 - loss: 1.0034 - precision: 0.7626 - recall: 0.4653 - val_accuracy: 0.6097 - val_f1_score: 0.5474 - val_loss: 1.0467 - val_precision: 0.7938 - val_recall: 0.4178\n",
      "Epoch 39/100\n",
      "\u001b[1m226/226\u001b[0m \u001b[32m━━━━━━━━━━━━━━━━━━━━\u001b[0m\u001b[37m\u001b[0m \u001b[1m11s\u001b[0m 46ms/step - accuracy: 0.6264 - f1_score: 0.5867 - loss: 0.9942 - precision: 0.7704 - recall: 0.4738 - val_accuracy: 0.6163 - val_f1_score: 0.5604 - val_loss: 1.0464 - val_precision: 0.7863 - val_recall: 0.4353\n",
      "Epoch 40/100\n",
      "\u001b[1m226/226\u001b[0m \u001b[32m━━━━━━━━━━━━━━━━━━━━\u001b[0m\u001b[37m\u001b[0m \u001b[1m20s\u001b[0m 46ms/step - accuracy: 0.6293 - f1_score: 0.5872 - loss: 0.9883 - precision: 0.7646 - recall: 0.4766 - val_accuracy: 0.6220 - val_f1_score: 0.5489 - val_loss: 1.0398 - val_precision: 0.8051 - val_recall: 0.4164\n",
      "Epoch 41/100\n",
      "\u001b[1m226/226\u001b[0m \u001b[32m━━━━━━━━━━━━━━━━━━━━\u001b[0m\u001b[37m\u001b[0m \u001b[1m10s\u001b[0m 46ms/step - accuracy: 0.6315 - f1_score: 0.5935 - loss: 0.9742 - precision: 0.7715 - recall: 0.4823 - val_accuracy: 0.6052 - val_f1_score: 0.5478 - val_loss: 1.0609 - val_precision: 0.7813 - val_recall: 0.4217\n",
      "Epoch 42/100\n",
      "\u001b[1m226/226\u001b[0m \u001b[32m━━━━━━━━━━━━━━━━━━━━\u001b[0m\u001b[37m\u001b[0m \u001b[1m11s\u001b[0m 47ms/step - accuracy: 0.6311 - f1_score: 0.5938 - loss: 0.9741 - precision: 0.7676 - recall: 0.4843 - val_accuracy: 0.6083 - val_f1_score: 0.5527 - val_loss: 1.0536 - val_precision: 0.7840 - val_recall: 0.4268\n",
      "Epoch 43/100\n",
      "\u001b[1m226/226\u001b[0m \u001b[32m━━━━━━━━━━━━━━━━━━━━\u001b[0m\u001b[37m\u001b[0m \u001b[1m11s\u001b[0m 47ms/step - accuracy: 0.6367 - f1_score: 0.5996 - loss: 0.9635 - precision: 0.7714 - recall: 0.4904 - val_accuracy: 0.6210 - val_f1_score: 0.5559 - val_loss: 1.0413 - val_precision: 0.7884 - val_recall: 0.4292\n",
      "Epoch 44/100\n",
      "\u001b[1m226/226\u001b[0m \u001b[32m━━━━━━━━━━━━━━━━━━━━\u001b[0m\u001b[37m\u001b[0m \u001b[1m20s\u001b[0m 46ms/step - accuracy: 0.6430 - f1_score: 0.6059 - loss: 0.9505 - precision: 0.7710 - recall: 0.4990 - val_accuracy: 0.6165 - val_f1_score: 0.5602 - val_loss: 1.0430 - val_precision: 0.7855 - val_recall: 0.4353\n",
      "Epoch 45/100\n",
      "\u001b[1m226/226\u001b[0m \u001b[32m━━━━━━━━━━━━━━━━━━━━\u001b[0m\u001b[37m\u001b[0m \u001b[1m10s\u001b[0m 46ms/step - accuracy: 0.6370 - f1_score: 0.6064 - loss: 0.9529 - precision: 0.7740 - recall: 0.4985 - val_accuracy: 0.6142 - val_f1_score: 0.5482 - val_loss: 1.0450 - val_precision: 0.8037 - val_recall: 0.4159\n",
      "Epoch 46/100\n",
      "\u001b[1m226/226\u001b[0m \u001b[32m━━━━━━━━━━━━━━━━━━━━\u001b[0m\u001b[37m\u001b[0m \u001b[1m21s\u001b[0m 47ms/step - accuracy: 0.6474 - f1_score: 0.6069 - loss: 0.9511 - precision: 0.7741 - recall: 0.4992 - val_accuracy: 0.6129 - val_f1_score: 0.5611 - val_loss: 1.0442 - val_precision: 0.7767 - val_recall: 0.4391\n",
      "Epoch 47/100\n",
      "\u001b[1m226/226\u001b[0m \u001b[32m━━━━━━━━━━━━━━━━━━━━\u001b[0m\u001b[37m\u001b[0m \u001b[1m11s\u001b[0m 47ms/step - accuracy: 0.6437 - f1_score: 0.6113 - loss: 0.9508 - precision: 0.7744 - recall: 0.5050 - val_accuracy: 0.6200 - val_f1_score: 0.5662 - val_loss: 1.0401 - val_precision: 0.7742 - val_recall: 0.4464\n",
      "Epoch 48/100\n",
      "\u001b[1m226/226\u001b[0m \u001b[32m━━━━━━━━━━━━━━━━━━━━\u001b[0m\u001b[37m\u001b[0m \u001b[1m21s\u001b[0m 47ms/step - accuracy: 0.6518 - f1_score: 0.6232 - loss: 0.9362 - precision: 0.7814 - recall: 0.5183 - val_accuracy: 0.6146 - val_f1_score: 0.5583 - val_loss: 1.0385 - val_precision: 0.7851 - val_recall: 0.4332\n",
      "Epoch 49/100\n",
      "\u001b[1m226/226\u001b[0m \u001b[32m━━━━━━━━━━━━━━━━━━━━\u001b[0m\u001b[37m\u001b[0m \u001b[1m11s\u001b[0m 48ms/step - accuracy: 0.6525 - f1_score: 0.6259 - loss: 0.9215 - precision: 0.7790 - recall: 0.5231 - val_accuracy: 0.6153 - val_f1_score: 0.5611 - val_loss: 1.0376 - val_precision: 0.7813 - val_recall: 0.4377\n",
      "Epoch 50/100\n",
      "\u001b[1m226/226\u001b[0m \u001b[32m━━━━━━━━━━━━━━━━━━━━\u001b[0m\u001b[37m\u001b[0m \u001b[1m11s\u001b[0m 49ms/step - accuracy: 0.6546 - f1_score: 0.6242 - loss: 0.9120 - precision: 0.7827 - recall: 0.5191 - val_accuracy: 0.6073 - val_f1_score: 0.5594 - val_loss: 1.0471 - val_precision: 0.7722 - val_recall: 0.4386\n",
      "Epoch 51/100\n",
      "\u001b[1m226/226\u001b[0m \u001b[32m━━━━━━━━━━━━━━━━━━━━\u001b[0m\u001b[37m\u001b[0m \u001b[1m11s\u001b[0m 49ms/step - accuracy: 0.6526 - f1_score: 0.6233 - loss: 0.9194 - precision: 0.7758 - recall: 0.5210 - val_accuracy: 0.6231 - val_f1_score: 0.5658 - val_loss: 1.0320 - val_precision: 0.7891 - val_recall: 0.4410\n",
      "Epoch 52/100\n",
      "\u001b[1m226/226\u001b[0m \u001b[32m━━━━━━━━━━━━━━━━━━━━\u001b[0m\u001b[37m\u001b[0m \u001b[1m11s\u001b[0m 49ms/step - accuracy: 0.6565 - f1_score: 0.6301 - loss: 0.9091 - precision: 0.7792 - recall: 0.5289 - val_accuracy: 0.6224 - val_f1_score: 0.5609 - val_loss: 1.0296 - val_precision: 0.7958 - val_recall: 0.4331\n",
      "Epoch 53/100\n",
      "\u001b[1m226/226\u001b[0m \u001b[32m━━━━━━━━━━━━━━━━━━━━\u001b[0m\u001b[37m\u001b[0m \u001b[1m20s\u001b[0m 48ms/step - accuracy: 0.6623 - f1_score: 0.6312 - loss: 0.9076 - precision: 0.7825 - recall: 0.5290 - val_accuracy: 0.6221 - val_f1_score: 0.5634 - val_loss: 1.0395 - val_precision: 0.7937 - val_recall: 0.4367\n",
      "Epoch 54/100\n",
      "\u001b[1m226/226\u001b[0m \u001b[32m━━━━━━━━━━━━━━━━━━━━\u001b[0m\u001b[37m\u001b[0m \u001b[1m20s\u001b[0m 48ms/step - accuracy: 0.6613 - f1_score: 0.6294 - loss: 0.9123 - precision: 0.7812 - recall: 0.5270 - val_accuracy: 0.6219 - val_f1_score: 0.5751 - val_loss: 1.0360 - val_precision: 0.7735 - val_recall: 0.4577\n",
      "Epoch 55/100\n",
      "\u001b[1m226/226\u001b[0m \u001b[32m━━━━━━━━━━━━━━━━━━━━\u001b[0m\u001b[37m\u001b[0m \u001b[1m20s\u001b[0m 48ms/step - accuracy: 0.6635 - f1_score: 0.6309 - loss: 0.8978 - precision: 0.7766 - recall: 0.5312 - val_accuracy: 0.6204 - val_f1_score: 0.5781 - val_loss: 1.0320 - val_precision: 0.7743 - val_recall: 0.4612\n",
      "Epoch 56/100\n",
      "\u001b[1m226/226\u001b[0m \u001b[32m━━━━━━━━━━━━━━━━━━━━\u001b[0m\u001b[37m\u001b[0m \u001b[1m21s\u001b[0m 49ms/step - accuracy: 0.6671 - f1_score: 0.6441 - loss: 0.8834 - precision: 0.7854 - recall: 0.5459 - val_accuracy: 0.6098 - val_f1_score: 0.5617 - val_loss: 1.0372 - val_precision: 0.7748 - val_recall: 0.4406\n",
      "Epoch 57/100\n",
      "\u001b[1m226/226\u001b[0m \u001b[32m━━━━━━━━━━━━━━━━━━━━\u001b[0m\u001b[37m\u001b[0m \u001b[1m20s\u001b[0m 48ms/step - accuracy: 0.6719 - f1_score: 0.6446 - loss: 0.8735 - precision: 0.7872 - recall: 0.5457 - val_accuracy: 0.6227 - val_f1_score: 0.5775 - val_loss: 1.0352 - val_precision: 0.7831 - val_recall: 0.4574\n",
      "Epoch 58/100\n",
      "\u001b[1m226/226\u001b[0m \u001b[32m━━━━━━━━━━━━━━━━━━━━\u001b[0m\u001b[37m\u001b[0m \u001b[1m11s\u001b[0m 48ms/step - accuracy: 0.6708 - f1_score: 0.6473 - loss: 0.8735 - precision: 0.7875 - recall: 0.5495 - val_accuracy: 0.6179 - val_f1_score: 0.5724 - val_loss: 1.0441 - val_precision: 0.7757 - val_recall: 0.4536\n",
      "Epoch 59/100\n",
      "\u001b[1m226/226\u001b[0m \u001b[32m━━━━━━━━━━━━━━━━━━━━\u001b[0m\u001b[37m\u001b[0m \u001b[1m20s\u001b[0m 48ms/step - accuracy: 0.6763 - f1_score: 0.6507 - loss: 0.8642 - precision: 0.7926 - recall: 0.5520 - val_accuracy: 0.6261 - val_f1_score: 0.5716 - val_loss: 1.0347 - val_precision: 0.7802 - val_recall: 0.4510\n",
      "Epoch 60/100\n",
      "\u001b[1m226/226\u001b[0m \u001b[32m━━━━━━━━━━━━━━━━━━━━\u001b[0m\u001b[37m\u001b[0m \u001b[1m11s\u001b[0m 48ms/step - accuracy: 0.6792 - f1_score: 0.6535 - loss: 0.8671 - precision: 0.7888 - recall: 0.5579 - val_accuracy: 0.6104 - val_f1_score: 0.5775 - val_loss: 1.0435 - val_precision: 0.7646 - val_recall: 0.4639\n",
      "Epoch 61/100\n",
      "\u001b[1m226/226\u001b[0m \u001b[32m━━━━━━━━━━━━━━━━━━━━\u001b[0m\u001b[37m\u001b[0m \u001b[1m11s\u001b[0m 49ms/step - accuracy: 0.6784 - f1_score: 0.6548 - loss: 0.8605 - precision: 0.7898 - recall: 0.5592 - val_accuracy: 0.6271 - val_f1_score: 0.5823 - val_loss: 1.0348 - val_precision: 0.7678 - val_recall: 0.4690\n",
      "Epoch 62/100\n",
      "\u001b[1m226/226\u001b[0m \u001b[32m━━━━━━━━━━━━━━━━━━━━\u001b[0m\u001b[37m\u001b[0m \u001b[1m11s\u001b[0m 49ms/step - accuracy: 0.6835 - f1_score: 0.6610 - loss: 0.8522 - precision: 0.7925 - recall: 0.5670 - val_accuracy: 0.6226 - val_f1_score: 0.5699 - val_loss: 1.0391 - val_precision: 0.7704 - val_recall: 0.4522\n",
      "Epoch 63/100\n",
      "\u001b[1m226/226\u001b[0m \u001b[32m━━━━━━━━━━━━━━━━━━━━\u001b[0m\u001b[37m\u001b[0m \u001b[1m11s\u001b[0m 48ms/step - accuracy: 0.6882 - f1_score: 0.6620 - loss: 0.8442 - precision: 0.7967 - recall: 0.5663 - val_accuracy: 0.6193 - val_f1_score: 0.5784 - val_loss: 1.0377 - val_precision: 0.7559 - val_recall: 0.4684\n",
      "Epoch 64/100\n",
      "\u001b[1m226/226\u001b[0m \u001b[32m━━━━━━━━━━━━━━━━━━━━\u001b[0m\u001b[37m\u001b[0m \u001b[1m11s\u001b[0m 48ms/step - accuracy: 0.6845 - f1_score: 0.6660 - loss: 0.8502 - precision: 0.7956 - recall: 0.5726 - val_accuracy: 0.6241 - val_f1_score: 0.5816 - val_loss: 1.0345 - val_precision: 0.7654 - val_recall: 0.4690\n",
      "Epoch 65/100\n",
      "\u001b[1m226/226\u001b[0m \u001b[32m━━━━━━━━━━━━━━━━━━━━\u001b[0m\u001b[37m\u001b[0m \u001b[1m11s\u001b[0m 48ms/step - accuracy: 0.6845 - f1_score: 0.6622 - loss: 0.8527 - precision: 0.7935 - recall: 0.5682 - val_accuracy: 0.6223 - val_f1_score: 0.5855 - val_loss: 1.0246 - val_precision: 0.7780 - val_recall: 0.4693\n",
      "Epoch 66/100\n",
      "\u001b[1m226/226\u001b[0m \u001b[32m━━━━━━━━━━━━━━━━━━━━\u001b[0m\u001b[37m\u001b[0m \u001b[1m11s\u001b[0m 48ms/step - accuracy: 0.6857 - f1_score: 0.6663 - loss: 0.8432 - precision: 0.7927 - recall: 0.5747 - val_accuracy: 0.6165 - val_f1_score: 0.5818 - val_loss: 1.0370 - val_precision: 0.7692 - val_recall: 0.4679\n",
      "Epoch 67/100\n",
      "\u001b[1m226/226\u001b[0m \u001b[32m━━━━━━━━━━━━━━━━━━━━\u001b[0m\u001b[37m\u001b[0m \u001b[1m11s\u001b[0m 49ms/step - accuracy: 0.6902 - f1_score: 0.6687 - loss: 0.8322 - precision: 0.7918 - recall: 0.5787 - val_accuracy: 0.6295 - val_f1_score: 0.5825 - val_loss: 1.0359 - val_precision: 0.7767 - val_recall: 0.4660\n",
      "Epoch 68/100\n",
      "\u001b[1m226/226\u001b[0m \u001b[32m━━━━━━━━━━━━━━━━━━━━\u001b[0m\u001b[37m\u001b[0m \u001b[1m11s\u001b[0m 48ms/step - accuracy: 0.7004 - f1_score: 0.6817 - loss: 0.8169 - precision: 0.7998 - recall: 0.5940 - val_accuracy: 0.6251 - val_f1_score: 0.5858 - val_loss: 1.0299 - val_precision: 0.7753 - val_recall: 0.4707\n",
      "Epoch 69/100\n",
      "\u001b[1m226/226\u001b[0m \u001b[32m━━━━━━━━━━━━━━━━━━━━\u001b[0m\u001b[37m\u001b[0m \u001b[1m20s\u001b[0m 48ms/step - accuracy: 0.7005 - f1_score: 0.6840 - loss: 0.8154 - precision: 0.8007 - recall: 0.5969 - val_accuracy: 0.6251 - val_f1_score: 0.5805 - val_loss: 1.0368 - val_precision: 0.7758 - val_recall: 0.4638\n",
      "Epoch 70/100\n",
      "\u001b[1m226/226\u001b[0m \u001b[32m━━━━━━━━━━━━━━━━━━━━\u001b[0m\u001b[37m\u001b[0m \u001b[1m21s\u001b[0m 49ms/step - accuracy: 0.6921 - f1_score: 0.6771 - loss: 0.8204 - precision: 0.7984 - recall: 0.5878 - val_accuracy: 0.6234 - val_f1_score: 0.5920 - val_loss: 1.0343 - val_precision: 0.7748 - val_recall: 0.4791\n",
      "Epoch 71/100\n",
      "\u001b[1m226/226\u001b[0m \u001b[32m━━━━━━━━━━━━━━━━━━━━\u001b[0m\u001b[37m\u001b[0m \u001b[1m11s\u001b[0m 49ms/step - accuracy: 0.6942 - f1_score: 0.6764 - loss: 0.8226 - precision: 0.7946 - recall: 0.5888 - val_accuracy: 0.6226 - val_f1_score: 0.5835 - val_loss: 1.0427 - val_precision: 0.7699 - val_recall: 0.4697\n",
      "Epoch 72/100\n",
      "\u001b[1m226/226\u001b[0m \u001b[32m━━━━━━━━━━━━━━━━━━━━\u001b[0m\u001b[37m\u001b[0m \u001b[1m11s\u001b[0m 49ms/step - accuracy: 0.6939 - f1_score: 0.6769 - loss: 0.8129 - precision: 0.7904 - recall: 0.5919 - val_accuracy: 0.6257 - val_f1_score: 0.5845 - val_loss: 1.0325 - val_precision: 0.7792 - val_recall: 0.4676\n",
      "Epoch 73/100\n",
      "\u001b[1m226/226\u001b[0m \u001b[32m━━━━━━━━━━━━━━━━━━━━\u001b[0m\u001b[37m\u001b[0m \u001b[1m11s\u001b[0m 48ms/step - accuracy: 0.7047 - f1_score: 0.6846 - loss: 0.7968 - precision: 0.8023 - recall: 0.5971 - val_accuracy: 0.6329 - val_f1_score: 0.5949 - val_loss: 1.0259 - val_precision: 0.7781 - val_recall: 0.4815\n",
      "Epoch 74/100\n",
      "\u001b[1m226/226\u001b[0m \u001b[32m━━━━━━━━━━━━━━━━━━━━\u001b[0m\u001b[37m\u001b[0m \u001b[1m20s\u001b[0m 48ms/step - accuracy: 0.7048 - f1_score: 0.6861 - loss: 0.7985 - precision: 0.8047 - recall: 0.5979 - val_accuracy: 0.6233 - val_f1_score: 0.5874 - val_loss: 1.0253 - val_precision: 0.7823 - val_recall: 0.4703\n",
      "Epoch 75/100\n",
      "\u001b[1m226/226\u001b[0m \u001b[32m━━━━━━━━━━━━━━━━━━━━\u001b[0m\u001b[37m\u001b[0m \u001b[1m21s\u001b[0m 48ms/step - accuracy: 0.7028 - f1_score: 0.6868 - loss: 0.8004 - precision: 0.7989 - recall: 0.6023 - val_accuracy: 0.6227 - val_f1_score: 0.5842 - val_loss: 1.0302 - val_precision: 0.7829 - val_recall: 0.4659\n",
      "Epoch 76/100\n",
      "\u001b[1m226/226\u001b[0m \u001b[32m━━━━━━━━━━━━━━━━━━━━\u001b[0m\u001b[37m\u001b[0m \u001b[1m21s\u001b[0m 49ms/step - accuracy: 0.7101 - f1_score: 0.6926 - loss: 0.7818 - precision: 0.8040 - recall: 0.6083 - val_accuracy: 0.6238 - val_f1_score: 0.5809 - val_loss: 1.0280 - val_precision: 0.7787 - val_recall: 0.4632\n",
      "Epoch 77/100\n",
      "\u001b[1m226/226\u001b[0m \u001b[32m━━━━━━━━━━━━━━━━━━━━\u001b[0m\u001b[37m\u001b[0m \u001b[1m11s\u001b[0m 49ms/step - accuracy: 0.7060 - f1_score: 0.6920 - loss: 0.7848 - precision: 0.8049 - recall: 0.6069 - val_accuracy: 0.6319 - val_f1_score: 0.5976 - val_loss: 1.0269 - val_precision: 0.7636 - val_recall: 0.4909\n",
      "Epoch 78/100\n",
      "\u001b[1m226/226\u001b[0m \u001b[32m━━━━━━━━━━━━━━━━━━━━\u001b[0m\u001b[37m\u001b[0m \u001b[1m11s\u001b[0m 49ms/step - accuracy: 0.7142 - f1_score: 0.6999 - loss: 0.7687 - precision: 0.8035 - recall: 0.6200 - val_accuracy: 0.6311 - val_f1_score: 0.5907 - val_loss: 1.0258 - val_precision: 0.7696 - val_recall: 0.4793\n",
      "Epoch 79/100\n",
      "\u001b[1m226/226\u001b[0m \u001b[32m━━━━━━━━━━━━━━━━━━━━\u001b[0m\u001b[37m\u001b[0m \u001b[1m20s\u001b[0m 48ms/step - accuracy: 0.7125 - f1_score: 0.6959 - loss: 0.7804 - precision: 0.8066 - recall: 0.6119 - val_accuracy: 0.6227 - val_f1_score: 0.5939 - val_loss: 1.0447 - val_precision: 0.7632 - val_recall: 0.4861\n",
      "Epoch 80/100\n",
      "\u001b[1m226/226\u001b[0m \u001b[32m━━━━━━━━━━━━━━━━━━━━\u001b[0m\u001b[37m\u001b[0m \u001b[1m21s\u001b[0m 48ms/step - accuracy: 0.7154 - f1_score: 0.6987 - loss: 0.7761 - precision: 0.8048 - recall: 0.6173 - val_accuracy: 0.6217 - val_f1_score: 0.5766 - val_loss: 1.0533 - val_precision: 0.7720 - val_recall: 0.4601\n",
      "Epoch 81/100\n",
      "\u001b[1m226/226\u001b[0m \u001b[32m━━━━━━━━━━━━━━━━━━━━\u001b[0m\u001b[37m\u001b[0m \u001b[1m11s\u001b[0m 49ms/step - accuracy: 0.7157 - f1_score: 0.7003 - loss: 0.7604 - precision: 0.8048 - recall: 0.6198 - val_accuracy: 0.6308 - val_f1_score: 0.5877 - val_loss: 1.0278 - val_precision: 0.7785 - val_recall: 0.4720\n",
      "Epoch 82/100\n",
      "\u001b[1m226/226\u001b[0m \u001b[32m━━━━━━━━━━━━━━━━━━━━\u001b[0m\u001b[37m\u001b[0m \u001b[1m11s\u001b[0m 49ms/step - accuracy: 0.7122 - f1_score: 0.6969 - loss: 0.7863 - precision: 0.8081 - recall: 0.6125 - val_accuracy: 0.6313 - val_f1_score: 0.5925 - val_loss: 1.0287 - val_precision: 0.7791 - val_recall: 0.4781\n",
      "Epoch 83/100\n",
      "\u001b[1m226/226\u001b[0m \u001b[32m━━━━━━━━━━━━━━━━━━━━\u001b[0m\u001b[37m\u001b[0m \u001b[1m20s\u001b[0m 48ms/step - accuracy: 0.7142 - f1_score: 0.6996 - loss: 0.7667 - precision: 0.8036 - recall: 0.6194 - val_accuracy: 0.6258 - val_f1_score: 0.5883 - val_loss: 1.0376 - val_precision: 0.7727 - val_recall: 0.4750\n",
      "Epoch 84/100\n",
      "\u001b[1m226/226\u001b[0m \u001b[32m━━━━━━━━━━━━━━━━━━━━\u001b[0m\u001b[37m\u001b[0m \u001b[1m11s\u001b[0m 48ms/step - accuracy: 0.7202 - f1_score: 0.7033 - loss: 0.7637 - precision: 0.8089 - recall: 0.6222 - val_accuracy: 0.6258 - val_f1_score: 0.5925 - val_loss: 1.0290 - val_precision: 0.7716 - val_recall: 0.4809\n",
      "Epoch 85/100\n",
      "\u001b[1m226/226\u001b[0m \u001b[32m━━━━━━━━━━━━━━━━━━━━\u001b[0m\u001b[37m\u001b[0m \u001b[1m11s\u001b[0m 49ms/step - accuracy: 0.7225 - f1_score: 0.7049 - loss: 0.7606 - precision: 0.8089 - recall: 0.6247 - val_accuracy: 0.6309 - val_f1_score: 0.5958 - val_loss: 1.0312 - val_precision: 0.7641 - val_recall: 0.4883\n",
      "Epoch 86/100\n",
      "\u001b[1m226/226\u001b[0m \u001b[32m━━━━━━━━━━━━━━━━━━━━\u001b[0m\u001b[37m\u001b[0m \u001b[1m11s\u001b[0m 49ms/step - accuracy: 0.7299 - f1_score: 0.7095 - loss: 0.7465 - precision: 0.8087 - recall: 0.6319 - val_accuracy: 0.6306 - val_f1_score: 0.5985 - val_loss: 1.0238 - val_precision: 0.7720 - val_recall: 0.4887\n",
      "Epoch 87/100\n",
      "\u001b[1m226/226\u001b[0m \u001b[32m━━━━━━━━━━━━━━━━━━━━\u001b[0m\u001b[37m\u001b[0m \u001b[1m20s\u001b[0m 48ms/step - accuracy: 0.7201 - f1_score: 0.7069 - loss: 0.7555 - precision: 0.8078 - recall: 0.6284 - val_accuracy: 0.6319 - val_f1_score: 0.6044 - val_loss: 1.0353 - val_precision: 0.7588 - val_recall: 0.5023\n",
      "Epoch 88/100\n",
      "\u001b[1m226/226\u001b[0m \u001b[32m━━━━━━━━━━━━━━━━━━━━\u001b[0m\u001b[37m\u001b[0m \u001b[1m21s\u001b[0m 48ms/step - accuracy: 0.7269 - f1_score: 0.7157 - loss: 0.7393 - precision: 0.8122 - recall: 0.6398 - val_accuracy: 0.6272 - val_f1_score: 0.5937 - val_loss: 1.0385 - val_precision: 0.7663 - val_recall: 0.4846\n",
      "Epoch 89/100\n",
      "\u001b[1m226/226\u001b[0m \u001b[32m━━━━━━━━━━━━━━━━━━━━\u001b[0m\u001b[37m\u001b[0m \u001b[1m11s\u001b[0m 49ms/step - accuracy: 0.7272 - f1_score: 0.7156 - loss: 0.7491 - precision: 0.8120 - recall: 0.6396 - val_accuracy: 0.6333 - val_f1_score: 0.6018 - val_loss: 1.0328 - val_precision: 0.7660 - val_recall: 0.4956\n",
      "Epoch 90/100\n",
      "\u001b[1m226/226\u001b[0m \u001b[32m━━━━━━━━━━━━━━━━━━━━\u001b[0m\u001b[37m\u001b[0m \u001b[1m11s\u001b[0m 49ms/step - accuracy: 0.7299 - f1_score: 0.7180 - loss: 0.7384 - precision: 0.8148 - recall: 0.6418 - val_accuracy: 0.6282 - val_f1_score: 0.6029 - val_loss: 1.0318 - val_precision: 0.7606 - val_recall: 0.4994\n",
      "Epoch 91/100\n",
      "\u001b[1m226/226\u001b[0m \u001b[32m━━━━━━━━━━━━━━━━━━━━\u001b[0m\u001b[37m\u001b[0m \u001b[1m11s\u001b[0m 48ms/step - accuracy: 0.7369 - f1_score: 0.7227 - loss: 0.7256 - precision: 0.8157 - recall: 0.6488 - val_accuracy: 0.6313 - val_f1_score: 0.5921 - val_loss: 1.0332 - val_precision: 0.7774 - val_recall: 0.4781\n",
      "Epoch 92/100\n",
      "\u001b[1m226/226\u001b[0m \u001b[32m━━━━━━━━━━━━━━━━━━━━\u001b[0m\u001b[37m\u001b[0m \u001b[1m20s\u001b[0m 48ms/step - accuracy: 0.7333 - f1_score: 0.7215 - loss: 0.7256 - precision: 0.8200 - recall: 0.6442 - val_accuracy: 0.6346 - val_f1_score: 0.6009 - val_loss: 1.0377 - val_precision: 0.7584 - val_recall: 0.4976\n",
      "Epoch 93/100\n",
      "\u001b[1m226/226\u001b[0m \u001b[32m━━━━━━━━━━━━━━━━━━━━\u001b[0m\u001b[37m\u001b[0m \u001b[1m21s\u001b[0m 48ms/step - accuracy: 0.7331 - f1_score: 0.7203 - loss: 0.7281 - precision: 0.8135 - recall: 0.6463 - val_accuracy: 0.6359 - val_f1_score: 0.5999 - val_loss: 1.0298 - val_precision: 0.7693 - val_recall: 0.4917\n",
      "Epoch 94/100\n",
      "\u001b[1m226/226\u001b[0m \u001b[32m━━━━━━━━━━━━━━━━━━━━\u001b[0m\u001b[37m\u001b[0m \u001b[1m11s\u001b[0m 49ms/step - accuracy: 0.7359 - f1_score: 0.7262 - loss: 0.7261 - precision: 0.8240 - recall: 0.6492 - val_accuracy: 0.6318 - val_f1_score: 0.6006 - val_loss: 1.0432 - val_precision: 0.7633 - val_recall: 0.4950\n",
      "Epoch 95/100\n",
      "\u001b[1m226/226\u001b[0m \u001b[32m━━━━━━━━━━━━━━━━━━━━\u001b[0m\u001b[37m\u001b[0m \u001b[1m20s\u001b[0m 49ms/step - accuracy: 0.7329 - f1_score: 0.7232 - loss: 0.7182 - precision: 0.8126 - recall: 0.6514 - val_accuracy: 0.6353 - val_f1_score: 0.6054 - val_loss: 1.0344 - val_precision: 0.7678 - val_recall: 0.4997\n",
      "Epoch 96/100\n",
      "\u001b[1m226/226\u001b[0m \u001b[32m━━━━━━━━━━━━━━━━━━━━\u001b[0m\u001b[37m\u001b[0m \u001b[1m11s\u001b[0m 49ms/step - accuracy: 0.7280 - f1_score: 0.7191 - loss: 0.7311 - precision: 0.8124 - recall: 0.6451 - val_accuracy: 0.6296 - val_f1_score: 0.6014 - val_loss: 1.0445 - val_precision: 0.7646 - val_recall: 0.4956\n",
      "Epoch 97/100\n",
      "\u001b[1m226/226\u001b[0m \u001b[32m━━━━━━━━━━━━━━━━━━━━\u001b[0m\u001b[37m\u001b[0m \u001b[1m11s\u001b[0m 48ms/step - accuracy: 0.7417 - f1_score: 0.7324 - loss: 0.7053 - precision: 0.8233 - recall: 0.6596 - val_accuracy: 0.6311 - val_f1_score: 0.6002 - val_loss: 1.0429 - val_precision: 0.7621 - val_recall: 0.4950\n",
      "Epoch 98/100\n",
      "\u001b[1m226/226\u001b[0m \u001b[32m━━━━━━━━━━━━━━━━━━━━\u001b[0m\u001b[37m\u001b[0m \u001b[1m11s\u001b[0m 48ms/step - accuracy: 0.7475 - f1_score: 0.7359 - loss: 0.7005 - precision: 0.8236 - recall: 0.6652 - val_accuracy: 0.6347 - val_f1_score: 0.6052 - val_loss: 1.0353 - val_precision: 0.7576 - val_recall: 0.5038\n",
      "Epoch 99/100\n",
      "\u001b[1m226/226\u001b[0m \u001b[32m━━━━━━━━━━━━━━━━━━━━\u001b[0m\u001b[37m\u001b[0m \u001b[1m11s\u001b[0m 48ms/step - accuracy: 0.7406 - f1_score: 0.7333 - loss: 0.6946 - precision: 0.8203 - recall: 0.6631 - val_accuracy: 0.6318 - val_f1_score: 0.6033 - val_loss: 1.0297 - val_precision: 0.7599 - val_recall: 0.5003\n",
      "Epoch 100/100\n",
      "\u001b[1m226/226\u001b[0m \u001b[32m━━━━━━━━━━━━━━━━━━━━\u001b[0m\u001b[37m\u001b[0m \u001b[1m20s\u001b[0m 48ms/step - accuracy: 0.7447 - f1_score: 0.7364 - loss: 0.6956 - precision: 0.8223 - recall: 0.6668 - val_accuracy: 0.6312 - val_f1_score: 0.6066 - val_loss: 1.0455 - val_precision: 0.7607 - val_recall: 0.5044\n"
     ]
    }
   ],
   "source": [
    "# Train model\n",
    "history = model.fit(x=x_train, y=y_train, batch_size=128, epochs=100, validation_data=(x_test,y_test))"
   ]
  },
  {
   "cell_type": "code",
   "execution_count": 32,
   "metadata": {
    "colab": {
     "base_uri": "https://localhost:8080/",
     "height": 435
    },
    "id": "oEsrP6F3LQro",
    "outputId": "5e2adb73-3965-4ed0-d126-874819a9ef6f"
   },
   "outputs": [
    {
     "data": {
      "image/png": "[encoded data removed]",
      "text/plain": [
       "<Figure size 1200x500 with 2 Axes>"
      ]
     },
     "metadata": {},
     "output_type": "display_data"
    }
   ],
   "source": [
    "# Plot training & validation accuracy values\n",
    "plt.figure(figsize=(12, 5))\n",
    "plt.subplot(1, 2, 1)\n",
    "plt.plot(history.history['accuracy'], label='Training Accuracy')\n",
    "plt.plot(history.history['val_accuracy'], label='Validation Accuracy')\n",
    "plt.title('Model Accuracy')\n",
    "plt.xlabel('Epoch')\n",
    "plt.ylabel('Accuracy')\n",
    "plt.legend()\n",
    "\n",
    "# Plot training & validation loss values\n",
    "plt.subplot(1, 2, 2)\n",
    "plt.plot(history.history['loss'], label='Training Loss')\n",
    "plt.plot(history.history['val_loss'], label='Validation Loss')\n",
    "plt.title('Model Loss')\n",
    "plt.xlabel('Epoch')\n",
    "plt.ylabel('Loss')\n",
    "plt.legend()\n",
    "\n",
    "plt.tight_layout()\n",
    "plt.show()"
   ]
  },
  {
   "cell_type": "code",
   "execution_count": null,
   "metadata": {
    "colab": {
     "base_uri": "https://localhost:8080/"
    },
    "id": "stqtVUZWJ0e9",
    "outputId": "11147731-ec95-4fc9-cdd7-3a890ede9ad2"
   },
   "outputs": [
    {
     "name": "stderr",
     "output_type": "stream",
     "text": [
      "WARNING:absl:You are saving your model as an HDF5 file via `model.save()` or `keras.saving.save_model(model)`. This file format is considered legacy. We recommend using instead the native Keras format, e.g. `model.save('my_model.keras')` or `keras.saving.save_model(model, 'my_model.keras')`. \n"
     ]
    }
   ],
   "source": [
    "# Save model\n",
    "model.save('emotion_model.h5')"
   ]
  },
  {
   "cell_type": "markdown",
   "metadata": {
    "id": "Y9MqOzFPJ0e-"
   },
   "source": [
    "## Test Model"
   ]
  },
  {
   "cell_type": "code",
   "execution_count": 2,
   "metadata": {
    "id": "QcaIm7CBJ0e-"
   },
   "outputs": [
    {
     "name": "stderr",
     "output_type": "stream",
     "text": [
      "WARNING:absl:Compiled the loaded model, but the compiled metrics have yet to be built. `model.compile_metrics` will be empty until you train or evaluate the model.\n"
     ]
    }
   ],
   "source": [
    "# Load model\n",
    "model = load_model('emotion_model.h5')"
   ]
  },
  {
   "cell_type": "code",
   "execution_count": 3,
   "metadata": {
    "id": "5HlwCvTqJ0e_"
   },
   "outputs": [],
   "source": [
    "def feature_extraction(image):\n",
    "    img = load_img(image,grayscale =  True )\n",
    "    feature = np.array(img)\n",
    "    feature = feature.reshape(1,48,48,1)\n",
    "    return feature/255.0"
   ]
  },
  {
   "cell_type": "code",
   "execution_count": 4,
   "metadata": {
    "colab": {
     "base_uri": "https://localhost:8080/",
     "height": 502
    },
    "id": "pViWbLv5J0e_",
    "outputId": "de9e56f5-50ef-4dab-fb43-0d2af7b1865d"
   },
   "outputs": [
    {
     "name": "stdout",
     "output_type": "stream",
     "text": [
      "original image is of fear\n",
      "\u001b[1m1/1\u001b[0m \u001b[32m━━━━━━━━━━━━━━━━━━━━\u001b[0m\u001b[37m\u001b[0m \u001b[1m0s\u001b[0m 334ms/step\n",
      "model prediction is  fear\n"
     ]
    },
    {
     "data": {
      "text/plain": [
       "<matplotlib.image.AxesImage at 0x131a399d0>"
      ]
     },
     "execution_count": 4,
     "metadata": {},
     "output_type": "execute_result"
    },
    {
     "data": {
      "image/png": "[encoded data removed]",
      "text/plain": [
       "<Figure size 640x480 with 1 Axes>"
      ]
     },
     "metadata": {},
     "output_type": "display_data"
    }
   ],
   "source": [
    "label = ['angry','disgust','fear','happy','neutral','sad','surprise']\n",
    "\n",
    "image = 'dataset/test/fear/21.jpg'\n",
    "print('original image is of fear')\n",
    "img = feature_extraction(image)\n",
    "pred = model.predict(img)\n",
    "pred_label = label[pred.argmax()]\n",
    "print('model prediction is ', pred_label)\n",
    "plt.imshow(img.reshape(48,48),cmap='gray')"
   ]
  },
  {
   "cell_type": "code",
   "execution_count": 35,
   "metadata": {
    "colab": {
     "base_uri": "https://localhost:8080/",
     "height": 502
    },
    "id": "JJAYcZ4UJ0e_",
    "outputId": "9815a273-0a76-4b03-89df-bc294fd9b261"
   },
   "outputs": [
    {
     "name": "stdout",
     "output_type": "stream",
     "text": [
      "original image is of fear\n",
      "\u001b[1m1/1\u001b[0m \u001b[32m━━━━━━━━━━━━━━━━━━━━\u001b[0m\u001b[37m\u001b[0m \u001b[1m0s\u001b[0m 17ms/step\n",
      "model prediction is  sad\n"
     ]
    },
    {
     "data": {
      "text/plain": [
       "<matplotlib.image.AxesImage at 0x79a721986410>"
      ]
     },
     "execution_count": 35,
     "metadata": {},
     "output_type": "execute_result"
    },
    {
     "data": {
      "image/png": "[encoded data removed]",
      "text/plain": [
       "<Figure size 640x480 with 1 Axes>"
      ]
     },
     "metadata": {},
     "output_type": "display_data"
    }
   ],
   "source": [
    "image = 'dataset/test/fear/35410.jpg'\n",
    "print('original image is of fear')\n",
    "img = feature_extraction(image)\n",
    "pred = model.predict(img)\n",
    "pred_label = label[pred.argmax()]\n",
    "print('model prediction is ', pred_label)\n",
    "plt.imshow(img.reshape(48,48),cmap='gray')"
   ]
  },
  {
   "cell_type": "code",
   "execution_count": 29,
   "metadata": {
    "colab": {
     "base_uri": "https://localhost:8080/",
     "height": 502
    },
    "id": "3HOXEvqoWzBF",
    "outputId": "17998c9e-091b-4c21-b3bc-6a0a037e1a20"
   },
   "outputs": [
    {
     "name": "stdout",
     "output_type": "stream",
     "text": [
      "original image is of happy\n",
      "\u001b[1m1/1\u001b[0m \u001b[32m━━━━━━━━━━━━━━━━━━━━\u001b[0m\u001b[37m\u001b[0m \u001b[1m0s\u001b[0m 18ms/step\n",
      "model prediction is  happy\n"
     ]
    },
    {
     "data": {
      "text/plain": [
       "<matplotlib.image.AxesImage at 0x79a776963910>"
      ]
     },
     "execution_count": 29,
     "metadata": {},
     "output_type": "execute_result"
    },
    {
     "data": {
      "image/png": "[encoded data removed]",
      "text/plain": [
       "<Figure size 640x480 with 1 Axes>"
      ]
     },
     "metadata": {},
     "output_type": "display_data"
    }
   ],
   "source": [
    "image = 'dataset/test/happy/30.jpg'\n",
    "print('original image is of happy')\n",
    "img = feature_extraction(image)\n",
    "pred = model.predict(img)\n",
    "pred_label = label[pred.argmax()]\n",
    "print('model prediction is ', pred_label)\n",
    "plt.imshow(img.reshape(48,48),cmap='gray')"
   ]
  }
 ],
 "metadata": {
  "accelerator": "GPU",
  "colab": {
   "gpuType": "T4",
   "provenance": []
  },
  "kernelspec": {
   "display_name": ".venv",
   "language": "python",
   "name": "python3"
  },
  "language_info": {
   "codemirror_mode": {
    "name": "ipython",
    "version": 3
   },
   "file_extension": ".py",
   "mimetype": "text/x-python",
   "name": "python",
   "nbconvert_exporter": "python",
   "pygments_lexer": "ipython3",
   "version": "3.11.6"
  },
  "widgets": {
   "application/vnd.jupyter.widget-state+json": {
    "0c6d8df3edcf407eb36761709c80438b": {
     "model_module": "@jupyter-widgets/controls",
     "model_module_version": "1.5.0",
     "model_name": "HTMLModel",
     "state": {
      "_dom_classes": [],
      "_model_module": "@jupyter-widgets/controls",
      "_model_module_version": "1.5.0",
      "_model_name": "HTMLModel",
      "_view_count": null,
      "_view_module": "@jupyter-widgets/controls",
      "_view_module_version": "1.5.0",
      "_view_name": "HTMLView",
      "description": "",
      "description_tooltip": null,
      "layout": "IPY_MODEL_984be3e6d14c4b369286d3788960e697",
      "placeholder": "​",
      "style": "IPY_MODEL_df1ab49f708247e1974de3773f44a045",
      "value": " 7066/7066 [00:01&lt;00:00, 6727.52it/s]"
     }
    },
    "10584a7636f94da4af79fbbe6c1b4adf": {
     "model_module": "@jupyter-widgets/base",
     "model_module_version": "1.2.0",
     "model_name": "LayoutModel",
     "state": {
      "_model_module": "@jupyter-widgets/base",
      "_model_module_version": "1.2.0",
      "_model_name": "LayoutModel",
      "_view_count": null,
      "_view_module": "@jupyter-widgets/base",
      "_view_module_version": "1.2.0",
      "_view_name": "LayoutView",
      "align_content": null,
      "align_items": null,
      "align_self": null,
      "border": null,
      "bottom": null,
      "display": null,
      "flex": null,
      "flex_flow": null,
      "grid_area": null,
      "grid_auto_columns": null,
      "grid_auto_flow": null,
      "grid_auto_rows": null,
      "grid_column": null,
      "grid_gap": null,
      "grid_row": null,
      "grid_template_areas": null,
      "grid_template_columns": null,
      "grid_template_rows": null,
      "height": null,
      "justify_content": null,
      "justify_items": null,
      "left": null,
      "margin": null,
      "max_height": null,
      "max_width": null,
      "min_height": null,
      "min_width": null,
      "object_fit": null,
      "object_position": null,
      "order": null,
      "overflow": null,
      "overflow_x": null,
      "overflow_y": null,
      "padding": null,
      "right": null,
      "top": null,
      "visibility": null,
      "width": null
     }
    },
    "20162f641cb946089ab5db08f34a38a4": {
     "model_module": "@jupyter-widgets/base",
     "model_module_version": "1.2.0",
     "model_name": "LayoutModel",
     "state": {
      "_model_module": "@jupyter-widgets/base",
      "_model_module_version": "1.2.0",
      "_model_name": "LayoutModel",
      "_view_count": null,
      "_view_module": "@jupyter-widgets/base",
      "_view_module_version": "1.2.0",
      "_view_name": "LayoutView",
      "align_content": null,
      "align_items": null,
      "align_self": null,
      "border": null,
      "bottom": null,
      "display": null,
      "flex": null,
      "flex_flow": null,
      "grid_area": null,
      "grid_auto_columns": null,
      "grid_auto_flow": null,
      "grid_auto_rows": null,
      "grid_column": null,
      "grid_gap": null,
      "grid_row": null,
      "grid_template_areas": null,
      "grid_template_columns": null,
      "grid_template_rows": null,
      "height": null,
      "justify_content": null,
      "justify_items": null,
      "left": null,
      "margin": null,
      "max_height": null,
      "max_width": null,
      "min_height": null,
      "min_width": null,
      "object_fit": null,
      "object_position": null,
      "order": null,
      "overflow": null,
      "overflow_x": null,
      "overflow_y": null,
      "padding": null,
      "right": null,
      "top": null,
      "visibility": null,
      "width": null
     }
    },
    "238a2385905a4f7ab31cba6f34f04842": {
     "model_module": "@jupyter-widgets/base",
     "model_module_version": "1.2.0",
     "model_name": "LayoutModel",
     "state": {
      "_model_module": "@jupyter-widgets/base",
      "_model_module_version": "1.2.0",
      "_model_name": "LayoutModel",
      "_view_count": null,
      "_view_module": "@jupyter-widgets/base",
      "_view_module_version": "1.2.0",
      "_view_name": "LayoutView",
      "align_content": null,
      "align_items": null,
      "align_self": null,
      "border": null,
      "bottom": null,
      "display": null,
      "flex": null,
      "flex_flow": null,
      "grid_area": null,
      "grid_auto_columns": null,
      "grid_auto_flow": null,
      "grid_auto_rows": null,
      "grid_column": null,
      "grid_gap": null,
      "grid_row": null,
      "grid_template_areas": null,
      "grid_template_columns": null,
      "grid_template_rows": null,
      "height": null,
      "justify_content": null,
      "justify_items": null,
      "left": null,
      "margin": null,
      "max_height": null,
      "max_width": null,
      "min_height": null,
      "min_width": null,
      "object_fit": null,
      "object_position": null,
      "order": null,
      "overflow": null,
      "overflow_x": null,
      "overflow_y": null,
      "padding": null,
      "right": null,
      "top": null,
      "visibility": null,
      "width": null
     }
    },
    "27c5afd938e7444ea94d34e635a1af1b": {
     "model_module": "@jupyter-widgets/controls",
     "model_module_version": "1.5.0",
     "model_name": "HTMLModel",
     "state": {
      "_dom_classes": [],
      "_model_module": "@jupyter-widgets/controls",
      "_model_module_version": "1.5.0",
      "_model_name": "HTMLModel",
      "_view_count": null,
      "_view_module": "@jupyter-widgets/controls",
      "_view_module_version": "1.5.0",
      "_view_name": "HTMLView",
      "description": "",
      "description_tooltip": null,
      "layout": "IPY_MODEL_10584a7636f94da4af79fbbe6c1b4adf",
      "placeholder": "​",
      "style": "IPY_MODEL_4c11d0a0145441e58aed7e496243eaf3",
      "value": "100%"
     }
    },
    "2a9daf5129b9494da202b96e330b442e": {
     "model_module": "@jupyter-widgets/controls",
     "model_module_version": "1.5.0",
     "model_name": "DescriptionStyleModel",
     "state": {
      "_model_module": "@jupyter-widgets/controls",
      "_model_module_version": "1.5.0",
      "_model_name": "DescriptionStyleModel",
      "_view_count": null,
      "_view_module": "@jupyter-widgets/base",
      "_view_module_version": "1.2.0",
      "_view_name": "StyleView",
      "description_width": ""
     }
    },
    "2c38a9aa75184393b6b7d0b4db370306": {
     "model_module": "@jupyter-widgets/controls",
     "model_module_version": "1.5.0",
     "model_name": "HTMLModel",
     "state": {
      "_dom_classes": [],
      "_model_module": "@jupyter-widgets/controls",
      "_model_module_version": "1.5.0",
      "_model_name": "HTMLModel",
      "_view_count": null,
      "_view_module": "@jupyter-widgets/controls",
      "_view_module_version": "1.5.0",
      "_view_name": "HTMLView",
      "description": "",
      "description_tooltip": null,
      "layout": "IPY_MODEL_3676ee317ac74390a5fdb8ca4ab7db0e",
      "placeholder": "​",
      "style": "IPY_MODEL_2e80e866e7114208bd32c69120f06947",
      "value": "100%"
     }
    },
    "2e80e866e7114208bd32c69120f06947": {
     "model_module": "@jupyter-widgets/controls",
     "model_module_version": "1.5.0",
     "model_name": "DescriptionStyleModel",
     "state": {
      "_model_module": "@jupyter-widgets/controls",
      "_model_module_version": "1.5.0",
      "_model_name": "DescriptionStyleModel",
      "_view_count": null,
      "_view_module": "@jupyter-widgets/base",
      "_view_module_version": "1.2.0",
      "_view_name": "StyleView",
      "description_width": ""
     }
    },
    "3676ee317ac74390a5fdb8ca4ab7db0e": {
     "model_module": "@jupyter-widgets/base",
     "model_module_version": "1.2.0",
     "model_name": "LayoutModel",
     "state": {
      "_model_module": "@jupyter-widgets/base",
      "_model_module_version": "1.2.0",
      "_model_name": "LayoutModel",
      "_view_count": null,
      "_view_module": "@jupyter-widgets/base",
      "_view_module_version": "1.2.0",
      "_view_name": "LayoutView",
      "align_content": null,
      "align_items": null,
      "align_self": null,
      "border": null,
      "bottom": null,
      "display": null,
      "flex": null,
      "flex_flow": null,
      "grid_area": null,
      "grid_auto_columns": null,
      "grid_auto_flow": null,
      "grid_auto_rows": null,
      "grid_column": null,
      "grid_gap": null,
      "grid_row": null,
      "grid_template_areas": null,
      "grid_template_columns": null,
      "grid_template_rows": null,
      "height": null,
      "justify_content": null,
      "justify_items": null,
      "left": null,
      "margin": null,
      "max_height": null,
      "max_width": null,
      "min_height": null,
      "min_width": null,
      "object_fit": null,
      "object_position": null,
      "order": null,
      "overflow": null,
      "overflow_x": null,
      "overflow_y": null,
      "padding": null,
      "right": null,
      "top": null,
      "visibility": null,
      "width": null
     }
    },
    "4c11d0a0145441e58aed7e496243eaf3": {
     "model_module": "@jupyter-widgets/controls",
     "model_module_version": "1.5.0",
     "model_name": "DescriptionStyleModel",
     "state": {
      "_model_module": "@jupyter-widgets/controls",
      "_model_module_version": "1.5.0",
      "_model_name": "DescriptionStyleModel",
      "_view_count": null,
      "_view_module": "@jupyter-widgets/base",
      "_view_module_version": "1.2.0",
      "_view_name": "StyleView",
      "description_width": ""
     }
    },
    "64f38c270c1e41fdae25c29d59c8db93": {
     "model_module": "@jupyter-widgets/base",
     "model_module_version": "1.2.0",
     "model_name": "LayoutModel",
     "state": {
      "_model_module": "@jupyter-widgets/base",
      "_model_module_version": "1.2.0",
      "_model_name": "LayoutModel",
      "_view_count": null,
      "_view_module": "@jupyter-widgets/base",
      "_view_module_version": "1.2.0",
      "_view_name": "LayoutView",
      "align_content": null,
      "align_items": null,
      "align_self": null,
      "border": null,
      "bottom": null,
      "display": null,
      "flex": null,
      "flex_flow": null,
      "grid_area": null,
      "grid_auto_columns": null,
      "grid_auto_flow": null,
      "grid_auto_rows": null,
      "grid_column": null,
      "grid_gap": null,
      "grid_row": null,
      "grid_template_areas": null,
      "grid_template_columns": null,
      "grid_template_rows": null,
      "height": null,
      "justify_content": null,
      "justify_items": null,
      "left": null,
      "margin": null,
      "max_height": null,
      "max_width": null,
      "min_height": null,
      "min_width": null,
      "object_fit": null,
      "object_position": null,
      "order": null,
      "overflow": null,
      "overflow_x": null,
      "overflow_y": null,
      "padding": null,
      "right": null,
      "top": null,
      "visibility": null,
      "width": null
     }
    },
    "6c0d8763140f42d88b5929495c15add3": {
     "model_module": "@jupyter-widgets/controls",
     "model_module_version": "1.5.0",
     "model_name": "HBoxModel",
     "state": {
      "_dom_classes": [],
      "_model_module": "@jupyter-widgets/controls",
      "_model_module_version": "1.5.0",
      "_model_name": "HBoxModel",
      "_view_count": null,
      "_view_module": "@jupyter-widgets/controls",
      "_view_module_version": "1.5.0",
      "_view_name": "HBoxView",
      "box_style": "",
      "children": [
       "IPY_MODEL_27c5afd938e7444ea94d34e635a1af1b",
       "IPY_MODEL_8f9957d2ff534e5b96edbb2a2f2c6f32",
       "IPY_MODEL_e52ab889fd5245fcb0da24addeaaae6a"
      ],
      "layout": "IPY_MODEL_cba82fa150ef43a6b5caa2a9d5bab478"
     }
    },
    "8bfcf2541def4b5fae276c97c2d38321": {
     "model_module": "@jupyter-widgets/controls",
     "model_module_version": "1.5.0",
     "model_name": "FloatProgressModel",
     "state": {
      "_dom_classes": [],
      "_model_module": "@jupyter-widgets/controls",
      "_model_module_version": "1.5.0",
      "_model_name": "FloatProgressModel",
      "_view_count": null,
      "_view_module": "@jupyter-widgets/controls",
      "_view_module_version": "1.5.0",
      "_view_name": "ProgressView",
      "bar_style": "success",
      "description": "",
      "description_tooltip": null,
      "layout": "IPY_MODEL_d5bd912cb8934b979fd2348edfdf7ebb",
      "max": 7066,
      "min": 0,
      "orientation": "horizontal",
      "style": "IPY_MODEL_f633cc4911a94f278c2cfb58d1224263",
      "value": 7066
     }
    },
    "8f9957d2ff534e5b96edbb2a2f2c6f32": {
     "model_module": "@jupyter-widgets/controls",
     "model_module_version": "1.5.0",
     "model_name": "FloatProgressModel",
     "state": {
      "_dom_classes": [],
      "_model_module": "@jupyter-widgets/controls",
      "_model_module_version": "1.5.0",
      "_model_name": "FloatProgressModel",
      "_view_count": null,
      "_view_module": "@jupyter-widgets/controls",
      "_view_module_version": "1.5.0",
      "_view_name": "ProgressView",
      "bar_style": "success",
      "description": "",
      "description_tooltip": null,
      "layout": "IPY_MODEL_64f38c270c1e41fdae25c29d59c8db93",
      "max": 28821,
      "min": 0,
      "orientation": "horizontal",
      "style": "IPY_MODEL_af58470d74df4e90a461c4c52ea403f9",
      "value": 28821
     }
    },
    "984be3e6d14c4b369286d3788960e697": {
     "model_module": "@jupyter-widgets/base",
     "model_module_version": "1.2.0",
     "model_name": "LayoutModel",
     "state": {
      "_model_module": "@jupyter-widgets/base",
      "_model_module_version": "1.2.0",
      "_model_name": "LayoutModel",
      "_view_count": null,
      "_view_module": "@jupyter-widgets/base",
      "_view_module_version": "1.2.0",
      "_view_name": "LayoutView",
      "align_content": null,
      "align_items": null,
      "align_self": null,
      "border": null,
      "bottom": null,
      "display": null,
      "flex": null,
      "flex_flow": null,
      "grid_area": null,
      "grid_auto_columns": null,
      "grid_auto_flow": null,
      "grid_auto_rows": null,
      "grid_column": null,
      "grid_gap": null,
      "grid_row": null,
      "grid_template_areas": null,
      "grid_template_columns": null,
      "grid_template_rows": null,
      "height": null,
      "justify_content": null,
      "justify_items": null,
      "left": null,
      "margin": null,
      "max_height": null,
      "max_width": null,
      "min_height": null,
      "min_width": null,
      "object_fit": null,
      "object_position": null,
      "order": null,
      "overflow": null,
      "overflow_x": null,
      "overflow_y": null,
      "padding": null,
      "right": null,
      "top": null,
      "visibility": null,
      "width": null
     }
    },
    "af58470d74df4e90a461c4c52ea403f9": {
     "model_module": "@jupyter-widgets/controls",
     "model_module_version": "1.5.0",
     "model_name": "ProgressStyleModel",
     "state": {
      "_model_module": "@jupyter-widgets/controls",
      "_model_module_version": "1.5.0",
      "_model_name": "ProgressStyleModel",
      "_view_count": null,
      "_view_module": "@jupyter-widgets/base",
      "_view_module_version": "1.2.0",
      "_view_name": "StyleView",
      "bar_color": null,
      "description_width": ""
     }
    },
    "bce2fc1bdfa54f048d6fe9f601611286": {
     "model_module": "@jupyter-widgets/controls",
     "model_module_version": "1.5.0",
     "model_name": "HBoxModel",
     "state": {
      "_dom_classes": [],
      "_model_module": "@jupyter-widgets/controls",
      "_model_module_version": "1.5.0",
      "_model_name": "HBoxModel",
      "_view_count": null,
      "_view_module": "@jupyter-widgets/controls",
      "_view_module_version": "1.5.0",
      "_view_name": "HBoxView",
      "box_style": "",
      "children": [
       "IPY_MODEL_2c38a9aa75184393b6b7d0b4db370306",
       "IPY_MODEL_8bfcf2541def4b5fae276c97c2d38321",
       "IPY_MODEL_0c6d8df3edcf407eb36761709c80438b"
      ],
      "layout": "IPY_MODEL_238a2385905a4f7ab31cba6f34f04842"
     }
    },
    "cba82fa150ef43a6b5caa2a9d5bab478": {
     "model_module": "@jupyter-widgets/base",
     "model_module_version": "1.2.0",
     "model_name": "LayoutModel",
     "state": {
      "_model_module": "@jupyter-widgets/base",
      "_model_module_version": "1.2.0",
      "_model_name": "LayoutModel",
      "_view_count": null,
      "_view_module": "@jupyter-widgets/base",
      "_view_module_version": "1.2.0",
      "_view_name": "LayoutView",
      "align_content": null,
      "align_items": null,
      "align_self": null,
      "border": null,
      "bottom": null,
      "display": null,
      "flex": null,
      "flex_flow": null,
      "grid_area": null,
      "grid_auto_columns": null,
      "grid_auto_flow": null,
      "grid_auto_rows": null,
      "grid_column": null,
      "grid_gap": null,
      "grid_row": null,
      "grid_template_areas": null,
      "grid_template_columns": null,
      "grid_template_rows": null,
      "height": null,
      "justify_content": null,
      "justify_items": null,
      "left": null,
      "margin": null,
      "max_height": null,
      "max_width": null,
      "min_height": null,
      "min_width": null,
      "object_fit": null,
      "object_position": null,
      "order": null,
      "overflow": null,
      "overflow_x": null,
      "overflow_y": null,
      "padding": null,
      "right": null,
      "top": null,
      "visibility": null,
      "width": null
     }
    },
    "d5bd912cb8934b979fd2348edfdf7ebb": {
     "model_module": "@jupyter-widgets/base",
     "model_module_version": "1.2.0",
     "model_name": "LayoutModel",
     "state": {
      "_model_module": "@jupyter-widgets/base",
      "_model_module_version": "1.2.0",
      "_model_name": "LayoutModel",
      "_view_count": null,
      "_view_module": "@jupyter-widgets/base",
      "_view_module_version": "1.2.0",
      "_view_name": "LayoutView",
      "align_content": null,
      "align_items": null,
      "align_self": null,
      "border": null,
      "bottom": null,
      "display": null,
      "flex": null,
      "flex_flow": null,
      "grid_area": null,
      "grid_auto_columns": null,
      "grid_auto_flow": null,
      "grid_auto_rows": null,
      "grid_column": null,
      "grid_gap": null,
      "grid_row": null,
      "grid_template_areas": null,
      "grid_template_columns": null,
      "grid_template_rows": null,
      "height": null,
      "justify_content": null,
      "justify_items": null,
      "left": null,
      "margin": null,
      "max_height": null,
      "max_width": null,
      "min_height": null,
      "min_width": null,
      "object_fit": null,
      "object_position": null,
      "order": null,
      "overflow": null,
      "overflow_x": null,
      "overflow_y": null,
      "padding": null,
      "right": null,
      "top": null,
      "visibility": null,
      "width": null
     }
    },
    "df1ab49f708247e1974de3773f44a045": {
     "model_module": "@jupyter-widgets/controls",
     "model_module_version": "1.5.0",
     "model_name": "DescriptionStyleModel",
     "state": {
      "_model_module": "@jupyter-widgets/controls",
      "_model_module_version": "1.5.0",
      "_model_name": "DescriptionStyleModel",
      "_view_count": null,
      "_view_module": "@jupyter-widgets/base",
      "_view_module_version": "1.2.0",
      "_view_name": "StyleView",
      "description_width": ""
     }
    },
    "e52ab889fd5245fcb0da24addeaaae6a": {
     "model_module": "@jupyter-widgets/controls",
     "model_module_version": "1.5.0",
     "model_name": "HTMLModel",
     "state": {
      "_dom_classes": [],
      "_model_module": "@jupyter-widgets/controls",
      "_model_module_version": "1.5.0",
      "_model_name": "HTMLModel",
      "_view_count": null,
      "_view_module": "@jupyter-widgets/controls",
      "_view_module_version": "1.5.0",
      "_view_name": "HTMLView",
      "description": "",
      "description_tooltip": null,
      "layout": "IPY_MODEL_20162f641cb946089ab5db08f34a38a4",
      "placeholder": "​",
      "style": "IPY_MODEL_2a9daf5129b9494da202b96e330b442e",
      "value": " 28821/28821 [00:04&lt;00:00, 6084.92it/s]"
     }
    },
    "f633cc4911a94f278c2cfb58d1224263": {
     "model_module": "@jupyter-widgets/controls",
     "model_module_version": "1.5.0",
     "model_name": "ProgressStyleModel",
     "state": {
      "_model_module": "@jupyter-widgets/controls",
      "_model_module_version": "1.5.0",
      "_model_name": "ProgressStyleModel",
      "_view_count": null,
      "_view_module": "@jupyter-widgets/base",
      "_view_module_version": "1.2.0",
      "_view_name": "StyleView",
      "bar_color": null,
      "description_width": ""
     }
    }
   }
  }
 },
 "nbformat": 4,
 "nbformat_minor": 0
}
